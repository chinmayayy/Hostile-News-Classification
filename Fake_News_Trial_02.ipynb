{
  "nbformat": 4,
  "nbformat_minor": 0,
  "metadata": {
    "colab": {
      "provenance": [],
      "collapsed_sections": [],
      "include_colab_link": true
    },
    "kernelspec": {
      "name": "python3",
      "display_name": "Python 3"
    },
    "language_info": {
      "name": "python"
    }
  },
  "cells": [
    {
      "cell_type": "markdown",
      "metadata": {
        "id": "view-in-github",
        "colab_type": "text"
      },
      "source": [
        "<a href=\"https://colab.research.google.com/github/chinmayayy/Hostile-News-Classification/blob/main/Fake_News_Trial_02.ipynb\" target=\"_parent\"><img src=\"https://colab.research.google.com/assets/colab-badge.svg\" alt=\"Open In Colab\"/></a>"
      ]
    },
    {
      "cell_type": "code",
      "metadata": {
        "colab": {
          "base_uri": "https://localhost:8080/"
        },
        "id": "hminT2P3Mh9V",
        "outputId": "731ec5dd-7853-43a3-a2ae-7e8b53decc8b"
      },
      "source": [
        "from google.colab import drive\n",
        "drive.mount('/content/drive')"
      ],
      "execution_count": null,
      "outputs": [
        {
          "output_type": "stream",
          "name": "stdout",
          "text": [
            "Mounted at /content/drive\n"
          ]
        }
      ]
    },
    {
      "cell_type": "code",
      "metadata": {
        "colab": {
          "base_uri": "https://localhost:8080/"
        },
        "id": "TKYTXOY-M1P-",
        "outputId": "f263838f-19bf-4184-91c1-2f4f6ee79073"
      },
      "source": [
        "cd '/content/drive/MyDrive/Colab Notebooks/Project/Dataset' "
      ],
      "execution_count": null,
      "outputs": [
        {
          "output_type": "stream",
          "name": "stdout",
          "text": [
            "/content/drive/MyDrive/Colab Notebooks/Project/Dataset\n"
          ]
        }
      ]
    },
    {
      "cell_type": "code",
      "metadata": {
        "colab": {
          "base_uri": "https://localhost:8080/"
        },
        "id": "EAYEV7itO9Jr",
        "outputId": "1f2f30d3-2c8b-4386-9f43-74e2cfd630c1"
      },
      "source": [
        "ls"
      ],
      "execution_count": null,
      "outputs": [
        {
          "output_type": "stream",
          "name": "stdout",
          "text": [
            "'constraint_Hindi_Train - Sheet1.csv'   file1.csv\n",
            "'Constraint_Hindi_Valid - Sheet1.csv'  'Test Set Complete - test.csv'\n",
            " dataset.csv                            Train_Data_01.csv\n"
          ]
        }
      ]
    },
    {
      "cell_type": "code",
      "metadata": {
        "id": "fBYD3_q5O-Eh"
      },
      "source": [
        "import pandas as pd\n",
        "from nltk.corpus import stopwords\n",
        "from nltk.stem.porter import PorterStemmer\n",
        "import re\n",
        "import nltk\n",
        "from sklearn.feature_extraction.text import CountVectorizer\n",
        "from sklearn.feature_extraction.text import HashingVectorizer\n",
        "import matplotlib.pyplot as plt\n",
        "from sklearn.model_selection import train_test_split\n",
        "from sklearn.feature_extraction.text import TfidfVectorizer"
      ],
      "execution_count": null,
      "outputs": []
    },
    {
      "cell_type": "code",
      "metadata": {
        "id": "JYdKinaaPGNu"
      },
      "source": [
        "data = pd.read_csv('Train_Data_01.csv')"
      ],
      "execution_count": null,
      "outputs": []
    },
    {
      "cell_type": "code",
      "metadata": {
        "colab": {
          "base_uri": "https://localhost:8080/",
          "height": 204
        },
        "id": "39Ro8x0GPMUf",
        "outputId": "2029f0d9-58a8-4dad-cd59-25d9025a7e9b"
      },
      "source": [
        "data.head()"
      ],
      "execution_count": null,
      "outputs": [
        {
          "output_type": "execute_result",
          "data": {
            "text/html": [
              "<div>\n",
              "<style scoped>\n",
              "    .dataframe tbody tr th:only-of-type {\n",
              "        vertical-align: middle;\n",
              "    }\n",
              "\n",
              "    .dataframe tbody tr th {\n",
              "        vertical-align: top;\n",
              "    }\n",
              "\n",
              "    .dataframe thead th {\n",
              "        text-align: right;\n",
              "    }\n",
              "</style>\n",
              "<table border=\"1\" class=\"dataframe\">\n",
              "  <thead>\n",
              "    <tr style=\"text-align: right;\">\n",
              "      <th></th>\n",
              "      <th>id</th>\n",
              "      <th>post</th>\n",
              "      <th>labels</th>\n",
              "    </tr>\n",
              "  </thead>\n",
              "  <tbody>\n",
              "    <tr>\n",
              "      <th>0</th>\n",
              "      <td>1</td>\n",
              "      <td>मेरे देश के हिन्दु बहुत निराले है। कुछ तो पक्क...</td>\n",
              "      <td>hate,offensive</td>\n",
              "    </tr>\n",
              "    <tr>\n",
              "      <th>1</th>\n",
              "      <td>2</td>\n",
              "      <td>सरकार हमेशा से किसानों की कमाई को बढ़ाने के लि...</td>\n",
              "      <td>non-hostile</td>\n",
              "    </tr>\n",
              "    <tr>\n",
              "      <th>2</th>\n",
              "      <td>3</td>\n",
              "      <td>सुशांत ने जो बिजनेस डील 9 जून को की थी, वो डील...</td>\n",
              "      <td>non-hostile</td>\n",
              "    </tr>\n",
              "    <tr>\n",
              "      <th>3</th>\n",
              "      <td>4</td>\n",
              "      <td>@prabhav218 साले जेएनयू छाप कमिने लोग हिन्दुओं...</td>\n",
              "      <td>defamation,offensive</td>\n",
              "    </tr>\n",
              "    <tr>\n",
              "      <th>4</th>\n",
              "      <td>5</td>\n",
              "      <td>#unlock4guidelines - अनलॉक-4 के लिए गाइडलाइन्स...</td>\n",
              "      <td>non-hostile</td>\n",
              "    </tr>\n",
              "  </tbody>\n",
              "</table>\n",
              "</div>"
            ],
            "text/plain": [
              "   id                                               post                labels\n",
              "0   1  मेरे देश के हिन्दु बहुत निराले है। कुछ तो पक्क...        hate,offensive\n",
              "1   2  सरकार हमेशा से किसानों की कमाई को बढ़ाने के लि...           non-hostile\n",
              "2   3  सुशांत ने जो बिजनेस डील 9 जून को की थी, वो डील...           non-hostile\n",
              "3   4  @prabhav218 साले जेएनयू छाप कमिने लोग हिन्दुओं...  defamation,offensive\n",
              "4   5  #unlock4guidelines - अनलॉक-4 के लिए गाइडलाइन्स...           non-hostile"
            ]
          },
          "metadata": {},
          "execution_count": 8
        }
      ]
    },
    {
      "cell_type": "code",
      "metadata": {
        "colab": {
          "base_uri": "https://localhost:8080/"
        },
        "id": "vVAjxTr1POP3",
        "outputId": "67109fc6-839d-42fe-ff48-1dcb80f1a43a"
      },
      "source": [
        "print(f'labels: {data.labels.unique()}')"
      ],
      "execution_count": null,
      "outputs": [
        {
          "output_type": "stream",
          "name": "stdout",
          "text": [
            "labels: ['hate,offensive' 'non-hostile' 'defamation,offensive' 'fake' 'hate'\n",
            " 'offensive' 'fake,hate' 'defamation' 'defamation,hate'\n",
            " 'defamation,hate,offensive' 'defamation,fake,offensive' 'fake,offensive'\n",
            " 'defamation,fake' 'defamation,fake,hate' 'fake,hate,offensive'\n",
            " 'defamation,fake,hate,offensive']\n"
          ]
        }
      ]
    },
    {
      "cell_type": "code",
      "metadata": {
        "id": "U0nIocfcPien"
      },
      "source": [
        "data[\"labels\"].replace({\"hate,offensive\": \"hate\", \"defamation,offensive\": \"offensive\", \"fake,hate\": \"fake\", \"defamation,hate\": \"hate\", \"defamation,hate,offensive\": \"hate\", \"defamation,fake,offensive\": \"fake\", \"fake,offensive\": \"fake\", \"defamation,fake\": \"fake\", \"defamation,fake,hate\" : \"fake\", \"fake,hate,offensive\": \"fake\", \"defamation,fake,hate,offensive\" : \"fake\"}, inplace=True)"
      ],
      "execution_count": null,
      "outputs": []
    },
    {
      "cell_type": "code",
      "metadata": {
        "colab": {
          "base_uri": "https://localhost:8080/"
        },
        "id": "_ubuYUa-RwfC",
        "outputId": "727db16e-11c2-4f32-c1e8-af8145bed5f0"
      },
      "source": [
        "print(f'labels: {data.labels.unique()}')"
      ],
      "execution_count": null,
      "outputs": [
        {
          "output_type": "stream",
          "name": "stdout",
          "text": [
            "labels: ['hate' 'non-hostile' 'offensive' 'fake' 'defamation']\n"
          ]
        }
      ]
    },
    {
      "cell_type": "code",
      "metadata": {
        "colab": {
          "base_uri": "https://localhost:8080/",
          "height": 204
        },
        "id": "8A1Y7ffcR5SJ",
        "outputId": "b025993f-9a76-40ba-936b-c8cd4dc33bec"
      },
      "source": [
        "data.head()"
      ],
      "execution_count": null,
      "outputs": [
        {
          "output_type": "execute_result",
          "data": {
            "text/html": [
              "<div>\n",
              "<style scoped>\n",
              "    .dataframe tbody tr th:only-of-type {\n",
              "        vertical-align: middle;\n",
              "    }\n",
              "\n",
              "    .dataframe tbody tr th {\n",
              "        vertical-align: top;\n",
              "    }\n",
              "\n",
              "    .dataframe thead th {\n",
              "        text-align: right;\n",
              "    }\n",
              "</style>\n",
              "<table border=\"1\" class=\"dataframe\">\n",
              "  <thead>\n",
              "    <tr style=\"text-align: right;\">\n",
              "      <th></th>\n",
              "      <th>id</th>\n",
              "      <th>post</th>\n",
              "      <th>labels</th>\n",
              "    </tr>\n",
              "  </thead>\n",
              "  <tbody>\n",
              "    <tr>\n",
              "      <th>0</th>\n",
              "      <td>1</td>\n",
              "      <td>मेरे देश के हिन्दु बहुत निराले है। कुछ तो पक्क...</td>\n",
              "      <td>hate</td>\n",
              "    </tr>\n",
              "    <tr>\n",
              "      <th>1</th>\n",
              "      <td>2</td>\n",
              "      <td>सरकार हमेशा से किसानों की कमाई को बढ़ाने के लि...</td>\n",
              "      <td>non-hostile</td>\n",
              "    </tr>\n",
              "    <tr>\n",
              "      <th>2</th>\n",
              "      <td>3</td>\n",
              "      <td>सुशांत ने जो बिजनेस डील 9 जून को की थी, वो डील...</td>\n",
              "      <td>non-hostile</td>\n",
              "    </tr>\n",
              "    <tr>\n",
              "      <th>3</th>\n",
              "      <td>4</td>\n",
              "      <td>@prabhav218 साले जेएनयू छाप कमिने लोग हिन्दुओं...</td>\n",
              "      <td>offensive</td>\n",
              "    </tr>\n",
              "    <tr>\n",
              "      <th>4</th>\n",
              "      <td>5</td>\n",
              "      <td>#unlock4guidelines - अनलॉक-4 के लिए गाइडलाइन्स...</td>\n",
              "      <td>non-hostile</td>\n",
              "    </tr>\n",
              "  </tbody>\n",
              "</table>\n",
              "</div>"
            ],
            "text/plain": [
              "   id                                               post       labels\n",
              "0   1  मेरे देश के हिन्दु बहुत निराले है। कुछ तो पक्क...         hate\n",
              "1   2  सरकार हमेशा से किसानों की कमाई को बढ़ाने के लि...  non-hostile\n",
              "2   3  सुशांत ने जो बिजनेस डील 9 जून को की थी, वो डील...  non-hostile\n",
              "3   4  @prabhav218 साले जेएनयू छाप कमिने लोग हिन्दुओं...    offensive\n",
              "4   5  #unlock4guidelines - अनलॉक-4 के लिए गाइडलाइन्स...  non-hostile"
            ]
          },
          "metadata": {},
          "execution_count": 12
        }
      ]
    },
    {
      "cell_type": "code",
      "metadata": {
        "id": "W2G66R6VSPQK"
      },
      "source": [
        "data['labels'] = data['labels'].apply({'fake':0, 'hate':0, 'offensive':0, 'defamation':0, 'non-hostile':1}.get)"
      ],
      "execution_count": null,
      "outputs": []
    },
    {
      "cell_type": "code",
      "metadata": {
        "colab": {
          "base_uri": "https://localhost:8080/",
          "height": 204
        },
        "id": "M_w_QkVLTDmr",
        "outputId": "ac627992-659b-4924-d7e2-24a40220fd20"
      },
      "source": [
        "data.head()"
      ],
      "execution_count": null,
      "outputs": [
        {
          "output_type": "execute_result",
          "data": {
            "text/html": [
              "<div>\n",
              "<style scoped>\n",
              "    .dataframe tbody tr th:only-of-type {\n",
              "        vertical-align: middle;\n",
              "    }\n",
              "\n",
              "    .dataframe tbody tr th {\n",
              "        vertical-align: top;\n",
              "    }\n",
              "\n",
              "    .dataframe thead th {\n",
              "        text-align: right;\n",
              "    }\n",
              "</style>\n",
              "<table border=\"1\" class=\"dataframe\">\n",
              "  <thead>\n",
              "    <tr style=\"text-align: right;\">\n",
              "      <th></th>\n",
              "      <th>id</th>\n",
              "      <th>post</th>\n",
              "      <th>labels</th>\n",
              "    </tr>\n",
              "  </thead>\n",
              "  <tbody>\n",
              "    <tr>\n",
              "      <th>0</th>\n",
              "      <td>1</td>\n",
              "      <td>मेरे देश के हिन्दु बहुत निराले है। कुछ तो पक्क...</td>\n",
              "      <td>0</td>\n",
              "    </tr>\n",
              "    <tr>\n",
              "      <th>1</th>\n",
              "      <td>2</td>\n",
              "      <td>सरकार हमेशा से किसानों की कमाई को बढ़ाने के लि...</td>\n",
              "      <td>1</td>\n",
              "    </tr>\n",
              "    <tr>\n",
              "      <th>2</th>\n",
              "      <td>3</td>\n",
              "      <td>सुशांत ने जो बिजनेस डील 9 जून को की थी, वो डील...</td>\n",
              "      <td>1</td>\n",
              "    </tr>\n",
              "    <tr>\n",
              "      <th>3</th>\n",
              "      <td>4</td>\n",
              "      <td>@prabhav218 साले जेएनयू छाप कमिने लोग हिन्दुओं...</td>\n",
              "      <td>0</td>\n",
              "    </tr>\n",
              "    <tr>\n",
              "      <th>4</th>\n",
              "      <td>5</td>\n",
              "      <td>#unlock4guidelines - अनलॉक-4 के लिए गाइडलाइन्स...</td>\n",
              "      <td>1</td>\n",
              "    </tr>\n",
              "  </tbody>\n",
              "</table>\n",
              "</div>"
            ],
            "text/plain": [
              "   id                                               post  labels\n",
              "0   1  मेरे देश के हिन्दु बहुत निराले है। कुछ तो पक्क...       0\n",
              "1   2  सरकार हमेशा से किसानों की कमाई को बढ़ाने के लि...       1\n",
              "2   3  सुशांत ने जो बिजनेस डील 9 जून को की थी, वो डील...       1\n",
              "3   4  @prabhav218 साले जेएनयू छाप कमिने लोग हिन्दुओं...       0\n",
              "4   5  #unlock4guidelines - अनलॉक-4 के लिए गाइडलाइन्स...       1"
            ]
          },
          "metadata": {},
          "execution_count": 14
        }
      ]
    },
    {
      "cell_type": "code",
      "metadata": {
        "id": "T2LmqM3CTLwC"
      },
      "source": [
        "data = data.drop(['id'], axis = 1)"
      ],
      "execution_count": null,
      "outputs": []
    },
    {
      "cell_type": "code",
      "metadata": {
        "id": "jqjmcp7_TkmZ"
      },
      "source": [
        "data = data.dropna()"
      ],
      "execution_count": null,
      "outputs": []
    },
    {
      "cell_type": "code",
      "metadata": {
        "id": "zC7ERiScWGDi"
      },
      "source": [
        "x_df = data.iloc[:,:-1].values\n",
        "y_df = data.iloc[:,-1].values"
      ],
      "execution_count": null,
      "outputs": []
    },
    {
      "cell_type": "code",
      "metadata": {
        "colab": {
          "base_uri": "https://localhost:8080/"
        },
        "id": "iqbN3562WXM7",
        "outputId": "9abe8604-c647-4a54-f29b-ea585f76c726"
      },
      "source": [
        "x_df"
      ],
      "execution_count": null,
      "outputs": [
        {
          "output_type": "execute_result",
          "data": {
            "text/plain": [
              "array([['मेरे देश के हिन्दु बहुत निराले है। कुछ तो पक्के राम भक्त है और कुछ बाबर के साले है \\n\\n🙏 जय श्री राम 🙏'],\n",
              "       ['सरकार हमेशा से किसानों की कमाई को बढ़ाने के लिए नई-नई स्कीमें लाती रहती है, ताकि उन पर ज्यादा आर्थिक बोझ न पड़े.\\n\\nhttps://t.co/8iy2MJSBAs'],\n",
              "       [\"सुशांत ने जो बिजनेस डील 9 जून को की थी, वो डील दीपेश को सुशांत की हत्या के दिन ही क्यों याद आई? देखिए 'पूछता है भारत' अर्नब के साथ रिपब्लिक भारत पर #LIVE :  https://t.co/G945HvzM0Z https://t.co/KfH7xF1IdM\"],\n",
              "       ...,\n",
              "       ['नौकरी गंवा चुके दोस्त की मदद: नगद के बजाए गिफ्ट कार्ड देने के बारे में सोचें, चुका सकते हैं नेटफ्लिक्स और जिम की फीस; हालचाल जानें, लेकिन ज्यादा नहीं https://t.co/l6kFR8eiBf #HelpYourFriend #Jobless #COVID19 https://t.co/YOKsAyndNa'],\n",
              "       ['बंगाल में हिन्दू मरे हैं इसलिए मुझे कोई फर्क नहीं पड़ता –#रविश कुमार\\n\\n'],\n",
              "       ['रक्षा मंत्री @rajnathsingh ने पूर्व राष्ट्रपति #PranabMukherjee के निधन पर शोक व्यक्त किया\\n\\nविवरण : https://t.co/aLE7aVtWy9']],\n",
              "      dtype=object)"
            ]
          },
          "metadata": {},
          "execution_count": 18
        }
      ]
    },
    {
      "cell_type": "code",
      "metadata": {
        "colab": {
          "base_uri": "https://localhost:8080/"
        },
        "id": "f_h1tMbhWd9w",
        "outputId": "ea65353d-0f1b-4713-92e0-6edfebd378c3"
      },
      "source": [
        "y_df"
      ],
      "execution_count": null,
      "outputs": [
        {
          "output_type": "execute_result",
          "data": {
            "text/plain": [
              "array([0, 1, 1, ..., 1, 0, 1])"
            ]
          },
          "metadata": {},
          "execution_count": 19
        }
      ]
    },
    {
      "cell_type": "code",
      "metadata": {
        "colab": {
          "base_uri": "https://localhost:8080/"
        },
        "id": "3cKKTks3T2Yu",
        "outputId": "fd427b00-ef3d-477a-eed0-04dbc4e308c4"
      },
      "source": [
        "from sklearn.feature_extraction.text import TfidfTransformer\n",
        "from sklearn.feature_extraction.text import CountVectorizer\n",
        "from sklearn.feature_extraction.text import TfidfVectorizer\n",
        "count_vectorizer = CountVectorizer()\n",
        "count_vectorizer.fit_transform(x_df.ravel())\n",
        "freq_term_matrix = count_vectorizer.transform(x_df.ravel())\n",
        "tfidf = TfidfTransformer(norm = \"l2\")\n",
        "tfidf.fit(freq_term_matrix)\n",
        "tf_idf_matrix = tfidf.fit_transform(freq_term_matrix)\n",
        "print(tf_idf_matrix)"
      ],
      "execution_count": null,
      "outputs": [
        {
          "output_type": "stream",
          "name": "stdout",
          "text": [
            "  (0, 8560)\t0.4788011212620214\n",
            "  (0, 8544)\t0.3879931928102296\n",
            "  (0, 8516)\t0.3717766973795364\n",
            "  (0, 8340)\t0.4825209264567969\n",
            "  (0, 7871)\t0.44400494428498294\n",
            "  (0, 7479)\t0.22809213243442533\n",
            "  (1, 9308)\t0.19600563451817907\n",
            "  (1, 9226)\t0.19560712213918902\n",
            "  (1, 8902)\t0.308813199885272\n",
            "  (1, 8482)\t0.23789465044650407\n",
            "  (1, 8381)\t0.11667703811056195\n",
            "  (1, 8361)\t0.24848894219184678\n",
            "  (1, 8256)\t0.5536481131028202\n",
            "  (1, 7551)\t0.20530014891042014\n",
            "  (1, 7236)\t0.2204035893539649\n",
            "  (1, 7067)\t0.2245539049226613\n",
            "  (1, 3064)\t0.0938824319126176\n",
            "  (1, 1950)\t0.09412100649669321\n",
            "  (1, 912)\t0.4802610172295583\n",
            "  (2, 9289)\t0.21430106846831662\n",
            "  (2, 8837)\t0.292458433979706\n",
            "  (2, 8381)\t0.11213205627383631\n",
            "  (2, 8377)\t0.28466239178990255\n",
            "  (2, 8291)\t0.31560931796731323\n",
            "  (2, 7834)\t0.18953687837728742\n",
            "  :\t:\n",
            "  (5725, 7479)\t0.09422577934169422\n",
            "  (5725, 6652)\t0.354501035525315\n",
            "  (5725, 3776)\t0.354501035525315\n",
            "  (5725, 3468)\t0.354501035525315\n",
            "  (5725, 3064)\t0.13859721333472189\n",
            "  (5725, 2982)\t0.354501035525315\n",
            "  (5725, 1998)\t0.20905117956385727\n",
            "  (5725, 1950)\t0.13894941738239874\n",
            "  (5726, 8885)\t0.4032555795309989\n",
            "  (5726, 8680)\t0.38804673189116085\n",
            "  (5726, 8445)\t0.4843364235338887\n",
            "  (5726, 8361)\t0.41544390022592687\n",
            "  (5726, 8327)\t0.23988737260248563\n",
            "  (5726, 7166)\t0.4712571638872513\n",
            "  (5727, 9044)\t0.33649209521027623\n",
            "  (5727, 8863)\t0.29477889453787787\n",
            "  (5727, 8795)\t0.2330469016321003\n",
            "  (5727, 8724)\t0.22955650542975028\n",
            "  (5727, 8381)\t0.13254842102102432\n",
            "  (5727, 8229)\t0.27991781187207393\n",
            "  (5727, 5059)\t0.4152799068661447\n",
            "  (5727, 4791)\t0.3225131372241965\n",
            "  (5727, 3064)\t0.10665310255681595\n",
            "  (5727, 1950)\t0.10692413004368963\n",
            "  (5727, 1278)\t0.5455901224661479\n"
          ]
        }
      ]
    },
    {
      "cell_type": "code",
      "metadata": {
        "id": "nFCBMJoqWo-C"
      },
      "source": [
        "x_train, x_test, y_train, y_test = train_test_split(tf_idf_matrix,y_df, test_size=0.25, random_state=0)"
      ],
      "execution_count": null,
      "outputs": []
    },
    {
      "cell_type": "markdown",
      "metadata": {
        "id": "0Zd7DCN0XpOP"
      },
      "source": [
        "##Logistic Regression"
      ]
    },
    {
      "cell_type": "code",
      "metadata": {
        "id": "TPfSUy4QXnHF"
      },
      "source": [
        "from sklearn.linear_model import LogisticRegression"
      ],
      "execution_count": null,
      "outputs": []
    },
    {
      "cell_type": "code",
      "metadata": {
        "id": "bCknwgOTXtp3"
      },
      "source": [
        "logreg = LogisticRegression()\n",
        "logreg.fit(x_train, y_train)\n",
        "Accuracy = logreg.score(x_test, y_test)"
      ],
      "execution_count": null,
      "outputs": []
    },
    {
      "cell_type": "code",
      "metadata": {
        "colab": {
          "base_uri": "https://localhost:8080/"
        },
        "id": "Dz8M0QS8X1KD",
        "outputId": "0f801f7a-3875-4b2f-cc7c-53923c70cbd9"
      },
      "source": [
        "print(Accuracy*100)"
      ],
      "execution_count": null,
      "outputs": [
        {
          "output_type": "stream",
          "name": "stdout",
          "text": [
            "94.27374301675978\n"
          ]
        }
      ]
    },
    {
      "cell_type": "markdown",
      "metadata": {
        "id": "icRUi0SWAu4b"
      },
      "source": [
        "##Naive-Bayes"
      ]
    },
    {
      "cell_type": "code",
      "metadata": {
        "id": "_KLyiChjYU14"
      },
      "source": [
        "from sklearn.naive_bayes import MultinomialNB\n",
        "NB = MultinomialNB()\n",
        "NB.fit(x_train, y_train)\n",
        "Accuracy = NB.score(x_test, y_test)"
      ],
      "execution_count": null,
      "outputs": []
    },
    {
      "cell_type": "code",
      "metadata": {
        "colab": {
          "base_uri": "https://localhost:8080/"
        },
        "id": "9rhFQ60SYedm",
        "outputId": "71498b52-4ba0-4a34-f033-e9afcad4a819"
      },
      "source": [
        "print(Accuracy*100)"
      ],
      "execution_count": null,
      "outputs": [
        {
          "output_type": "stream",
          "name": "stdout",
          "text": [
            "89.10614525139665\n"
          ]
        }
      ]
    },
    {
      "cell_type": "markdown",
      "metadata": {
        "id": "GsEJbMSuYiuf"
      },
      "source": [
        "##Decision Tree"
      ]
    },
    {
      "cell_type": "code",
      "metadata": {
        "id": "YKXywaqSYgm1"
      },
      "source": [
        "from sklearn.tree import DecisionTreeClassifier\n",
        "clf = DecisionTreeClassifier()\n",
        "clf.fit(x_train, y_train)\n",
        "Accuracy = clf.score(x_test, y_test)"
      ],
      "execution_count": null,
      "outputs": []
    },
    {
      "cell_type": "code",
      "metadata": {
        "colab": {
          "base_uri": "https://localhost:8080/"
        },
        "id": "6FoFOvPgYpTx",
        "outputId": "a0cf362e-3be1-41d5-a696-03e77cb1ddf4"
      },
      "source": [
        "print(Accuracy*100)"
      ],
      "execution_count": null,
      "outputs": [
        {
          "output_type": "stream",
          "name": "stdout",
          "text": [
            "91.75977653631286\n"
          ]
        }
      ]
    },
    {
      "cell_type": "code",
      "metadata": {
        "id": "tp5QoQ5BBviI"
      },
      "source": [
        "from sklearn.tree import DecisionTreeClassifier\n",
        "dtc = DecisionTreeClassifier(criterion='entropy')\n",
        "dtc.fit(x_train, y_train)\n",
        "y_pred = dtc.predict(x_test)"
      ],
      "execution_count": null,
      "outputs": []
    },
    {
      "cell_type": "markdown",
      "metadata": {
        "id": "EXXjVrZ4CBTX"
      },
      "source": [
        "Creating a confusion matrix to determine the accuracy\n"
      ]
    },
    {
      "cell_type": "code",
      "metadata": {
        "colab": {
          "base_uri": "https://localhost:8080/"
        },
        "id": "DoPZOnoECCU2",
        "outputId": "23272d25-3771-469d-8474-e8fb4897baf9"
      },
      "source": [
        "from sklearn.metrics import confusion_matrix\n",
        "confusion_matrix(y_test, y_pred)"
      ],
      "execution_count": null,
      "outputs": [
        {
          "output_type": "execute_result",
          "data": {
            "text/plain": [
              "array([[611,  60],\n",
              "       [ 63, 698]])"
            ]
          },
          "metadata": {},
          "execution_count": 33
        }
      ]
    },
    {
      "cell_type": "code",
      "metadata": {
        "id": "tJ9pniPzCckZ"
      },
      "source": [
        "plt.clf()\n",
        "plt.imshow(cm, interpolation='nearest', cmap=plt.cm.Wistia)\n",
        "classNames = ['Negative','Positive']\n",
        "plt.title('Hostile v/s Non-hostile Data')\n",
        "plt.ylabel('True label')\n",
        "plt.xlabel('Predicted label')\n",
        "var = np.arange(len(classNames))\n",
        "plt.xticks(var, classNames, rotation=45)\n",
        "plt.yticks(var, classNames)\n",
        "s = [['TN','FP'], ['FN', 'TP']]\n",
        "for i in range(2):\n",
        "    for j in range(2):\n",
        "        plt.text(j,i, str(s[i][j])+\" = \"+str(cm[i][j]))\n",
        "plt.show()"
      ],
      "execution_count": null,
      "outputs": []
    },
    {
      "cell_type": "markdown",
      "metadata": {
        "id": "pjbB_2znYynF"
      },
      "source": [
        "##Passive-Aggressive Classifier\n"
      ]
    },
    {
      "cell_type": "code",
      "metadata": {
        "colab": {
          "base_uri": "https://localhost:8080/"
        },
        "id": "hFboJq8bYsGz",
        "outputId": "466dea9d-d274-4964-bd0c-630886f7dfbf"
      },
      "source": [
        "from sklearn.metrics import accuracy_score\n",
        "from sklearn.linear_model import PassiveAggressiveClassifier\n",
        "pac=PassiveAggressiveClassifier(max_iter=50)\n",
        "pac.fit(x_train,y_train)"
      ],
      "execution_count": null,
      "outputs": [
        {
          "output_type": "execute_result",
          "data": {
            "text/plain": [
              "PassiveAggressiveClassifier(C=1.0, average=False, class_weight=None,\n",
              "                            early_stopping=False, fit_intercept=True,\n",
              "                            loss='hinge', max_iter=50, n_iter_no_change=5,\n",
              "                            n_jobs=None, random_state=None, shuffle=True,\n",
              "                            tol=0.001, validation_fraction=0.1, verbose=0,\n",
              "                            warm_start=False)"
            ]
          },
          "metadata": {},
          "execution_count": 42
        }
      ]
    },
    {
      "cell_type": "code",
      "metadata": {
        "colab": {
          "base_uri": "https://localhost:8080/"
        },
        "id": "Dn3gZ0fuY_7j",
        "outputId": "bb894e6a-aac8-4f62-bf21-f908772daa79"
      },
      "source": [
        "y_pred=pac.predict(x_test)\n",
        "score=accuracy_score(y_test,y_pred)\n",
        "print(f'Accuracy: {round(score*100,2)}%')"
      ],
      "execution_count": null,
      "outputs": [
        {
          "output_type": "stream",
          "name": "stdout",
          "text": [
            "Accuracy: 96.55%\n"
          ]
        }
      ]
    },
    {
      "cell_type": "markdown",
      "metadata": {
        "id": "IK8dRBA6ZbLw"
      },
      "source": [
        "Conclusion: Best accuracy achieved using linear regression"
      ]
    }
  ]
}