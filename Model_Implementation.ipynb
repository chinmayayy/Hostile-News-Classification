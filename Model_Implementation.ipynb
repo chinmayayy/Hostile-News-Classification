{
  "nbformat": 4,
  "nbformat_minor": 0,
  "metadata": {
    "colab": {
      "provenance": [],
      "collapsed_sections": [],
      "include_colab_link": true
    },
    "kernelspec": {
      "name": "python3",
      "display_name": "Python 3"
    },
    "language_info": {
      "name": "python"
    }
  },
  "cells": [
    {
      "cell_type": "markdown",
      "metadata": {
        "id": "view-in-github",
        "colab_type": "text"
      },
      "source": [
        "<a href=\"https://colab.research.google.com/github/chinmayayy/Hostile-News-Classification/blob/main/Model_Implementation.ipynb\" target=\"_parent\"><img src=\"https://colab.research.google.com/assets/colab-badge.svg\" alt=\"Open In Colab\"/></a>"
      ]
    },
    {
      "cell_type": "code",
      "metadata": {
        "id": "Mk1WZ1gOWFSj"
      },
      "source": [
        "import pandas as pd\n",
        "import numpy as np\n",
        "from sklearn.linear_model import LinearRegression\n",
        "from sklearn.model_selection import train_test_split\n",
        "from matplotlib import pyplot as plt"
      ],
      "execution_count": null,
      "outputs": []
    },
    {
      "cell_type": "code",
      "metadata": {
        "colab": {
          "base_uri": "https://localhost:8080/"
        },
        "id": "d9lzlnbzWdSk",
        "outputId": "50815733-069c-4ae0-b43c-61515c78e8a7"
      },
      "source": [
        "from google.colab import drive\n",
        "drive.mount('/content/drive')"
      ],
      "execution_count": null,
      "outputs": [
        {
          "output_type": "stream",
          "name": "stdout",
          "text": [
            "Mounted at /content/drive\n"
          ]
        }
      ]
    },
    {
      "cell_type": "code",
      "metadata": {
        "colab": {
          "base_uri": "https://localhost:8080/"
        },
        "id": "X_ooz_X0WxLp",
        "outputId": "93605d78-032a-45a2-f008-05b1a49f3035"
      },
      "source": [
        "cd 'drive/'"
      ],
      "execution_count": null,
      "outputs": [
        {
          "output_type": "stream",
          "name": "stdout",
          "text": [
            "/content/drive\n"
          ]
        }
      ]
    },
    {
      "cell_type": "code",
      "metadata": {
        "colab": {
          "base_uri": "https://localhost:8080/"
        },
        "id": "aaKXZkUWW49u",
        "outputId": "d12d65ae-4a7b-4274-9297-44b8a7ee5c94"
      },
      "source": [
        "cd 'MyDrive/'"
      ],
      "execution_count": null,
      "outputs": [
        {
          "output_type": "stream",
          "name": "stdout",
          "text": [
            "/content/drive/MyDrive\n"
          ]
        }
      ]
    },
    {
      "cell_type": "code",
      "metadata": {
        "colab": {
          "base_uri": "https://localhost:8080/"
        },
        "id": "DAbns5cuXPEb",
        "outputId": "4a24321e-fde1-4fab-ee97-64d836c9a938"
      },
      "source": [
        "cd ''Colab Notebooks'/'"
      ],
      "execution_count": null,
      "outputs": [
        {
          "output_type": "stream",
          "name": "stdout",
          "text": [
            "/content/drive/MyDrive/Colab Notebooks\n"
          ]
        }
      ]
    },
    {
      "cell_type": "code",
      "metadata": {
        "colab": {
          "base_uri": "https://localhost:8080/"
        },
        "id": "9IlbwqBtXSZ6",
        "outputId": "ca004c2a-dd15-420a-ae4a-606ac2f79d2c"
      },
      "source": [
        "ls"
      ],
      "execution_count": null,
      "outputs": [
        {
          "output_type": "stream",
          "name": "stdout",
          "text": [
            " 1Dataset.csv\n",
            "' Assignment 01 DataFrame.ipynb'\n",
            "' Assignment 02 DataFrame.ipynb'\n",
            "'Assignment 3 based on Chapter 5 Pandas'\n",
            "'Fake news_1.ipynb'\n",
            "'Fake News detection 01'\n",
            " file1.csv\n",
            " file2.csv\n",
            " file3.csv\n",
            " file4.csv\n",
            "'Lab Assignment 2 based on Numpy and Pandas'\n",
            "'Scatter Plot.ipynb'\n",
            " test.csv\n",
            " train.csv\n",
            " Untitled0.ipynb\n",
            " Untitled1.ipynb\n",
            " valid.csv\n"
          ]
        }
      ]
    },
    {
      "cell_type": "code",
      "metadata": {
        "id": "JzonoDBdXlpr"
      },
      "source": [
        "news = pd.read_csv(\"file1.csv\")"
      ],
      "execution_count": null,
      "outputs": []
    },
    {
      "cell_type": "code",
      "metadata": {
        "colab": {
          "base_uri": "https://localhost:8080/",
          "height": 416
        },
        "id": "lTOIg3rvX1jl",
        "outputId": "8b0ea26c-65a2-4785-8084-6d593e945ddd"
      },
      "source": [
        "news"
      ],
      "execution_count": null,
      "outputs": [
        {
          "output_type": "execute_result",
          "data": {
            "text/html": [
              "<div>\n",
              "<style scoped>\n",
              "    .dataframe tbody tr th:only-of-type {\n",
              "        vertical-align: middle;\n",
              "    }\n",
              "\n",
              "    .dataframe tbody tr th {\n",
              "        vertical-align: top;\n",
              "    }\n",
              "\n",
              "    .dataframe thead th {\n",
              "        text-align: right;\n",
              "    }\n",
              "</style>\n",
              "<table border=\"1\" class=\"dataframe\">\n",
              "  <thead>\n",
              "    <tr style=\"text-align: right;\">\n",
              "      <th></th>\n",
              "      <th>Unique ID_x</th>\n",
              "      <th>Post</th>\n",
              "      <th>Labels Set_x</th>\n",
              "      <th>Unique ID_y</th>\n",
              "      <th>Labels Set_y</th>\n",
              "    </tr>\n",
              "  </thead>\n",
              "  <tbody>\n",
              "    <tr>\n",
              "      <th>0</th>\n",
              "      <td>1</td>\n",
              "      <td>मेरे देश के हिन्दु बहुत निराले है। कुछ तो पक्क...</td>\n",
              "      <td>hate,offensive</td>\n",
              "      <td>NaN</td>\n",
              "      <td>NaN</td>\n",
              "    </tr>\n",
              "    <tr>\n",
              "      <th>1</th>\n",
              "      <td>2</td>\n",
              "      <td>सरकार हमेशा से किसानों की कमाई को बढ़ाने के लि...</td>\n",
              "      <td>non-hostile</td>\n",
              "      <td>NaN</td>\n",
              "      <td>NaN</td>\n",
              "    </tr>\n",
              "    <tr>\n",
              "      <th>2</th>\n",
              "      <td>3</td>\n",
              "      <td>सुशांत ने जो बिजनेस डील 9 जून को की थी, वो डील...</td>\n",
              "      <td>non-hostile</td>\n",
              "      <td>NaN</td>\n",
              "      <td>NaN</td>\n",
              "    </tr>\n",
              "    <tr>\n",
              "      <th>3</th>\n",
              "      <td>4</td>\n",
              "      <td>@prabhav218 साले जेएनयू छाप कमिने लोग हिन्दुओं...</td>\n",
              "      <td>defamation,offensive</td>\n",
              "      <td>NaN</td>\n",
              "      <td>NaN</td>\n",
              "    </tr>\n",
              "    <tr>\n",
              "      <th>4</th>\n",
              "      <td>5</td>\n",
              "      <td>#unlock4guidelines - अनलॉक-4 के लिए गाइडलाइन्स...</td>\n",
              "      <td>non-hostile</td>\n",
              "      <td>NaN</td>\n",
              "      <td>NaN</td>\n",
              "    </tr>\n",
              "    <tr>\n",
              "      <th>...</th>\n",
              "      <td>...</td>\n",
              "      <td>...</td>\n",
              "      <td>...</td>\n",
              "      <td>...</td>\n",
              "      <td>...</td>\n",
              "    </tr>\n",
              "    <tr>\n",
              "      <th>5723</th>\n",
              "      <td>5724</td>\n",
              "      <td>उदितराज जी हिम्मत  जुटा कर उस नेता के लिए कुछ ...</td>\n",
              "      <td>hate</td>\n",
              "      <td>NaN</td>\n",
              "      <td>NaN</td>\n",
              "    </tr>\n",
              "    <tr>\n",
              "      <th>5724</th>\n",
              "      <td>5725</td>\n",
              "      <td>उप्र: पीएम रिपोर्ट में खुलासा: हार्टअटैक से हु...</td>\n",
              "      <td>non-hostile</td>\n",
              "      <td>NaN</td>\n",
              "      <td>NaN</td>\n",
              "    </tr>\n",
              "    <tr>\n",
              "      <th>5725</th>\n",
              "      <td>5726</td>\n",
              "      <td>नौकरी गंवा चुके दोस्त की मदद: नगद के बजाए गिफ्...</td>\n",
              "      <td>non-hostile</td>\n",
              "      <td>NaN</td>\n",
              "      <td>NaN</td>\n",
              "    </tr>\n",
              "    <tr>\n",
              "      <th>5726</th>\n",
              "      <td>5727</td>\n",
              "      <td>बंगाल में हिन्दू मरे हैं इसलिए मुझे कोई फर्क न...</td>\n",
              "      <td>fake</td>\n",
              "      <td>NaN</td>\n",
              "      <td>NaN</td>\n",
              "    </tr>\n",
              "    <tr>\n",
              "      <th>5727</th>\n",
              "      <td>5728</td>\n",
              "      <td>रक्षा मंत्री @rajnathsingh ने पूर्व राष्ट्रपति...</td>\n",
              "      <td>non-hostile</td>\n",
              "      <td>NaN</td>\n",
              "      <td>NaN</td>\n",
              "    </tr>\n",
              "  </tbody>\n",
              "</table>\n",
              "<p>5728 rows × 5 columns</p>\n",
              "</div>"
            ],
            "text/plain": [
              "      Unique ID_x  ... Labels Set_y\n",
              "0               1  ...          NaN\n",
              "1               2  ...          NaN\n",
              "2               3  ...          NaN\n",
              "3               4  ...          NaN\n",
              "4               5  ...          NaN\n",
              "...           ...  ...          ...\n",
              "5723         5724  ...          NaN\n",
              "5724         5725  ...          NaN\n",
              "5725         5726  ...          NaN\n",
              "5726         5727  ...          NaN\n",
              "5727         5728  ...          NaN\n",
              "\n",
              "[5728 rows x 5 columns]"
            ]
          },
          "metadata": {},
          "execution_count": 9
        }
      ]
    },
    {
      "cell_type": "code",
      "metadata": {
        "colab": {
          "base_uri": "https://localhost:8080/",
          "height": 356
        },
        "id": "8qGwsc8IX4TF",
        "outputId": "10255165-1621-46dd-d363-7307fb9c5042"
      },
      "source": [
        "news= news.drop(['Unique ID_x'], axis= 1)\n",
        "news= news.drop(['Unique ID_y'], axis= 1)\n",
        "news= news.drop(['Labels Set_y'], axis= 1)\n",
        "news.head(10)"
      ],
      "execution_count": null,
      "outputs": [
        {
          "output_type": "execute_result",
          "data": {
            "text/html": [
              "<div>\n",
              "<style scoped>\n",
              "    .dataframe tbody tr th:only-of-type {\n",
              "        vertical-align: middle;\n",
              "    }\n",
              "\n",
              "    .dataframe tbody tr th {\n",
              "        vertical-align: top;\n",
              "    }\n",
              "\n",
              "    .dataframe thead th {\n",
              "        text-align: right;\n",
              "    }\n",
              "</style>\n",
              "<table border=\"1\" class=\"dataframe\">\n",
              "  <thead>\n",
              "    <tr style=\"text-align: right;\">\n",
              "      <th></th>\n",
              "      <th>Post</th>\n",
              "      <th>Labels Set_x</th>\n",
              "    </tr>\n",
              "  </thead>\n",
              "  <tbody>\n",
              "    <tr>\n",
              "      <th>0</th>\n",
              "      <td>मेरे देश के हिन्दु बहुत निराले है। कुछ तो पक्क...</td>\n",
              "      <td>hate,offensive</td>\n",
              "    </tr>\n",
              "    <tr>\n",
              "      <th>1</th>\n",
              "      <td>सरकार हमेशा से किसानों की कमाई को बढ़ाने के लि...</td>\n",
              "      <td>non-hostile</td>\n",
              "    </tr>\n",
              "    <tr>\n",
              "      <th>2</th>\n",
              "      <td>सुशांत ने जो बिजनेस डील 9 जून को की थी, वो डील...</td>\n",
              "      <td>non-hostile</td>\n",
              "    </tr>\n",
              "    <tr>\n",
              "      <th>3</th>\n",
              "      <td>@prabhav218 साले जेएनयू छाप कमिने लोग हिन्दुओं...</td>\n",
              "      <td>defamation,offensive</td>\n",
              "    </tr>\n",
              "    <tr>\n",
              "      <th>4</th>\n",
              "      <td>#unlock4guidelines - अनलॉक-4 के लिए गाइडलाइन्स...</td>\n",
              "      <td>non-hostile</td>\n",
              "    </tr>\n",
              "    <tr>\n",
              "      <th>5</th>\n",
              "      <td>चीन ने UN में तर्क दिया की भारत का विपक्ष ही अ...</td>\n",
              "      <td>fake</td>\n",
              "    </tr>\n",
              "    <tr>\n",
              "      <th>6</th>\n",
              "      <td>देश में #Corona के रिकॉर्ड मामले  \\n#ZeeJankar...</td>\n",
              "      <td>non-hostile</td>\n",
              "    </tr>\n",
              "    <tr>\n",
              "      <th>7</th>\n",
              "      <td>#JEE Exam center से निकले #Students को सुन बाक...</td>\n",
              "      <td>non-hostile</td>\n",
              "    </tr>\n",
              "    <tr>\n",
              "      <th>8</th>\n",
              "      <td>#AkshayKumar जल्द ही बेयर ग्रिल्स के शो 'इंटू ...</td>\n",
              "      <td>non-hostile</td>\n",
              "    </tr>\n",
              "    <tr>\n",
              "      <th>9</th>\n",
              "      <td>#जीवनसंवाद: हम संघर्ष करना चाहते हैं, क्योंकि ...</td>\n",
              "      <td>non-hostile</td>\n",
              "    </tr>\n",
              "  </tbody>\n",
              "</table>\n",
              "</div>"
            ],
            "text/plain": [
              "                                                Post          Labels Set_x\n",
              "0  मेरे देश के हिन्दु बहुत निराले है। कुछ तो पक्क...        hate,offensive\n",
              "1  सरकार हमेशा से किसानों की कमाई को बढ़ाने के लि...           non-hostile\n",
              "2  सुशांत ने जो बिजनेस डील 9 जून को की थी, वो डील...           non-hostile\n",
              "3  @prabhav218 साले जेएनयू छाप कमिने लोग हिन्दुओं...  defamation,offensive\n",
              "4  #unlock4guidelines - अनलॉक-4 के लिए गाइडलाइन्स...           non-hostile\n",
              "5  चीन ने UN में तर्क दिया की भारत का विपक्ष ही अ...                  fake\n",
              "6  देश में #Corona के रिकॉर्ड मामले  \\n#ZeeJankar...           non-hostile\n",
              "7  #JEE Exam center से निकले #Students को सुन बाक...           non-hostile\n",
              "8  #AkshayKumar जल्द ही बेयर ग्रिल्स के शो 'इंटू ...           non-hostile\n",
              "9  #जीवनसंवाद: हम संघर्ष करना चाहते हैं, क्योंकि ...           non-hostile"
            ]
          },
          "metadata": {},
          "execution_count": 10
        }
      ]
    },
    {
      "cell_type": "code",
      "metadata": {
        "id": "XX9P8vtEOeSO",
        "colab": {
          "base_uri": "https://localhost:8080/",
          "height": 760
        },
        "outputId": "4732ea6f-6bb9-45a9-e670-628c9fd7ae6e"
      },
      "source": [
        "news.columns =['Post', 'Labels']\n",
        "result = news.groupby(['Labels']).count()\n",
        "print()\n",
        "print(result)\n",
        "\n",
        "result.plot(kind='bar')"
      ],
      "execution_count": null,
      "outputs": [
        {
          "output_type": "stream",
          "name": "stdout",
          "text": [
            "\n",
            "                                Post\n",
            "Labels                              \n",
            "defamation                       305\n",
            "defamation,fake                   34\n",
            "defamation,fake,hate               9\n",
            "defamation,fake,hate,offensive     9\n",
            "defamation,fake,offensive         24\n",
            "defamation,hate                   74\n",
            "defamation,hate,offensive         28\n",
            "defamation,offensive              81\n",
            "fake                            1009\n",
            "fake,hate                         27\n",
            "fake,hate,offensive                4\n",
            "fake,offensive                    28\n",
            "hate                             478\n",
            "hate,offensive                   163\n",
            "non-hostile                     3050\n",
            "offensive                        405\n"
          ]
        },
        {
          "output_type": "execute_result",
          "data": {
            "text/plain": [
              "<matplotlib.axes._subplots.AxesSubplot at 0x7f2be50dce90>"
            ]
          },
          "metadata": {},
          "execution_count": 11
        },
        {
          "output_type": "display_data",
          "data": {
            "image/png": "[encoded data removed]",
            "text/plain": [
              "<Figure size 432x288 with 1 Axes>"
            ]
          },
          "metadata": {
            "needs_background": "light"
          }
        }
      ]
    },
    {
      "cell_type": "code",
      "metadata": {
        "colab": {
          "base_uri": "https://localhost:8080/"
        },
        "id": "hjCct0e6ch4n",
        "outputId": "7ba6c9f3-ca9f-4bd3-f1a7-f98744da0549"
      },
      "source": [
        "print(f'labels: {news.Labels.unique()}')"
      ],
      "execution_count": null,
      "outputs": [
        {
          "output_type": "stream",
          "name": "stdout",
          "text": [
            "labels: ['hate,offensive' 'non-hostile' 'defamation,offensive' 'fake' 'hate'\n",
            " 'offensive' 'fake,hate' 'defamation' 'defamation,hate'\n",
            " 'defamation,hate,offensive' 'defamation,fake,offensive' 'fake,offensive'\n",
            " 'defamation,fake' 'defamation,fake,hate' 'fake,hate,offensive'\n",
            " 'defamation,fake,hate,offensive']\n"
          ]
        }
      ]
    },
    {
      "cell_type": "code",
      "metadata": {
        "id": "omWr5-yAbD0b"
      },
      "source": [
        "news['fake'] = np.where(news['Labels'].str.contains('fake'), 1, 0)"
      ],
      "execution_count": null,
      "outputs": []
    },
    {
      "cell_type": "code",
      "metadata": {
        "id": "z5h7Ihk5b8ia"
      },
      "source": [
        "news['hate'] = np.where(news['Labels'].str.contains('hate'), 1, 0)\n",
        "news['defamation'] = np.where(news['Labels'].str.contains('defamation'), 1, 0)\n",
        "news['offensive'] = np.where(news['Labels'].str.contains('offensive'), 1, 0)\n",
        "news['non-hostile'] = np.where(news['Labels'].str.contains('non-hostile'), 1, 0)"
      ],
      "execution_count": null,
      "outputs": []
    },
    {
      "cell_type": "code",
      "metadata": {
        "id": "QpUaZOd25wFX"
      },
      "source": [
        "news['length'] = news['Post'].str.len()"
      ],
      "execution_count": null,
      "outputs": []
    },
    {
      "cell_type": "code",
      "metadata": {
        "colab": {
          "base_uri": "https://localhost:8080/",
          "height": 416
        },
        "id": "6DTDRGKJbexH",
        "outputId": "8ac091e0-3a25-42da-c497-4fd93d7ac50d"
      },
      "source": [
        "news"
      ],
      "execution_count": null,
      "outputs": [
        {
          "output_type": "execute_result",
          "data": {
            "text/html": [
              "<div>\n",
              "<style scoped>\n",
              "    .dataframe tbody tr th:only-of-type {\n",
              "        vertical-align: middle;\n",
              "    }\n",
              "\n",
              "    .dataframe tbody tr th {\n",
              "        vertical-align: top;\n",
              "    }\n",
              "\n",
              "    .dataframe thead th {\n",
              "        text-align: right;\n",
              "    }\n",
              "</style>\n",
              "<table border=\"1\" class=\"dataframe\">\n",
              "  <thead>\n",
              "    <tr style=\"text-align: right;\">\n",
              "      <th></th>\n",
              "      <th>Post</th>\n",
              "      <th>Labels</th>\n",
              "      <th>fake</th>\n",
              "      <th>hate</th>\n",
              "      <th>defamation</th>\n",
              "      <th>offensive</th>\n",
              "      <th>non-hostile</th>\n",
              "      <th>length</th>\n",
              "    </tr>\n",
              "  </thead>\n",
              "  <tbody>\n",
              "    <tr>\n",
              "      <th>0</th>\n",
              "      <td>मेरे देश के हिन्दु बहुत निराले है। कुछ तो पक्क...</td>\n",
              "      <td>hate,offensive</td>\n",
              "      <td>0</td>\n",
              "      <td>1</td>\n",
              "      <td>0</td>\n",
              "      <td>1</td>\n",
              "      <td>0</td>\n",
              "      <td>100</td>\n",
              "    </tr>\n",
              "    <tr>\n",
              "      <th>1</th>\n",
              "      <td>सरकार हमेशा से किसानों की कमाई को बढ़ाने के लि...</td>\n",
              "      <td>non-hostile</td>\n",
              "      <td>0</td>\n",
              "      <td>0</td>\n",
              "      <td>0</td>\n",
              "      <td>0</td>\n",
              "      <td>1</td>\n",
              "      <td>137</td>\n",
              "    </tr>\n",
              "    <tr>\n",
              "      <th>2</th>\n",
              "      <td>सुशांत ने जो बिजनेस डील 9 जून को की थी, वो डील...</td>\n",
              "      <td>non-hostile</td>\n",
              "      <td>0</td>\n",
              "      <td>0</td>\n",
              "      <td>0</td>\n",
              "      <td>0</td>\n",
              "      <td>1</td>\n",
              "      <td>204</td>\n",
              "    </tr>\n",
              "    <tr>\n",
              "      <th>3</th>\n",
              "      <td>@prabhav218 साले जेएनयू छाप कमिने लोग हिन्दुओं...</td>\n",
              "      <td>defamation,offensive</td>\n",
              "      <td>0</td>\n",
              "      <td>0</td>\n",
              "      <td>1</td>\n",
              "      <td>1</td>\n",
              "      <td>0</td>\n",
              "      <td>144</td>\n",
              "    </tr>\n",
              "    <tr>\n",
              "      <th>4</th>\n",
              "      <td>#unlock4guidelines - अनलॉक-4 के लिए गाइडलाइन्स...</td>\n",
              "      <td>non-hostile</td>\n",
              "      <td>0</td>\n",
              "      <td>0</td>\n",
              "      <td>0</td>\n",
              "      <td>0</td>\n",
              "      <td>1</td>\n",
              "      <td>303</td>\n",
              "    </tr>\n",
              "    <tr>\n",
              "      <th>...</th>\n",
              "      <td>...</td>\n",
              "      <td>...</td>\n",
              "      <td>...</td>\n",
              "      <td>...</td>\n",
              "      <td>...</td>\n",
              "      <td>...</td>\n",
              "      <td>...</td>\n",
              "      <td>...</td>\n",
              "    </tr>\n",
              "    <tr>\n",
              "      <th>5723</th>\n",
              "      <td>उदितराज जी हिम्मत  जुटा कर उस नेता के लिए कुछ ...</td>\n",
              "      <td>hate</td>\n",
              "      <td>0</td>\n",
              "      <td>1</td>\n",
              "      <td>0</td>\n",
              "      <td>0</td>\n",
              "      <td>0</td>\n",
              "      <td>187</td>\n",
              "    </tr>\n",
              "    <tr>\n",
              "      <th>5724</th>\n",
              "      <td>उप्र: पीएम रिपोर्ट में खुलासा: हार्टअटैक से हु...</td>\n",
              "      <td>non-hostile</td>\n",
              "      <td>0</td>\n",
              "      <td>0</td>\n",
              "      <td>0</td>\n",
              "      <td>0</td>\n",
              "      <td>1</td>\n",
              "      <td>212</td>\n",
              "    </tr>\n",
              "    <tr>\n",
              "      <th>5725</th>\n",
              "      <td>नौकरी गंवा चुके दोस्त की मदद: नगद के बजाए गिफ्...</td>\n",
              "      <td>non-hostile</td>\n",
              "      <td>0</td>\n",
              "      <td>0</td>\n",
              "      <td>0</td>\n",
              "      <td>0</td>\n",
              "      <td>1</td>\n",
              "      <td>231</td>\n",
              "    </tr>\n",
              "    <tr>\n",
              "      <th>5726</th>\n",
              "      <td>बंगाल में हिन्दू मरे हैं इसलिए मुझे कोई फर्क न...</td>\n",
              "      <td>fake</td>\n",
              "      <td>1</td>\n",
              "      <td>0</td>\n",
              "      <td>0</td>\n",
              "      <td>0</td>\n",
              "      <td>0</td>\n",
              "      <td>70</td>\n",
              "    </tr>\n",
              "    <tr>\n",
              "      <th>5727</th>\n",
              "      <td>रक्षा मंत्री @rajnathsingh ने पूर्व राष्ट्रपति...</td>\n",
              "      <td>non-hostile</td>\n",
              "      <td>0</td>\n",
              "      <td>0</td>\n",
              "      <td>0</td>\n",
              "      <td>0</td>\n",
              "      <td>1</td>\n",
              "      <td>123</td>\n",
              "    </tr>\n",
              "  </tbody>\n",
              "</table>\n",
              "<p>5728 rows × 8 columns</p>\n",
              "</div>"
            ],
            "text/plain": [
              "                                                   Post  ... length\n",
              "0     मेरे देश के हिन्दु बहुत निराले है। कुछ तो पक्क...  ...    100\n",
              "1     सरकार हमेशा से किसानों की कमाई को बढ़ाने के लि...  ...    137\n",
              "2     सुशांत ने जो बिजनेस डील 9 जून को की थी, वो डील...  ...    204\n",
              "3     @prabhav218 साले जेएनयू छाप कमिने लोग हिन्दुओं...  ...    144\n",
              "4     #unlock4guidelines - अनलॉक-4 के लिए गाइडलाइन्स...  ...    303\n",
              "...                                                 ...  ...    ...\n",
              "5723  उदितराज जी हिम्मत  जुटा कर उस नेता के लिए कुछ ...  ...    187\n",
              "5724  उप्र: पीएम रिपोर्ट में खुलासा: हार्टअटैक से हु...  ...    212\n",
              "5725  नौकरी गंवा चुके दोस्त की मदद: नगद के बजाए गिफ्...  ...    231\n",
              "5726  बंगाल में हिन्दू मरे हैं इसलिए मुझे कोई फर्क न...  ...     70\n",
              "5727  रक्षा मंत्री @rajnathsingh ने पूर्व राष्ट्रपति...  ...    123\n",
              "\n",
              "[5728 rows x 8 columns]"
            ]
          },
          "metadata": {},
          "execution_count": 16
        }
      ]
    },
    {
      "cell_type": "code",
      "metadata": {
        "colab": {
          "base_uri": "https://localhost:8080/",
          "height": 282
        },
        "id": "znsV-z0y5WGK",
        "outputId": "4d37e691-51b7-4d3e-bf3c-3f6be44df628"
      },
      "source": [
        "plt.scatter(news['length'], news['Labels'])"
      ],
      "execution_count": null,
      "outputs": [
        {
          "output_type": "execute_result",
          "data": {
            "text/plain": [
              "<matplotlib.collections.PathCollection at 0x7f2be4b50250>"
            ]
          },
          "metadata": {},
          "execution_count": 17
        },
        {
          "output_type": "display_data",
          "data": {
            "image/png": "[encoded data removed]",
            "text/plain": [
              "<Figure size 432x288 with 1 Axes>"
            ]
          },
          "metadata": {
            "needs_background": "light"
          }
        }
      ]
    },
    {
      "cell_type": "code",
      "metadata": {
        "colab": {
          "base_uri": "https://localhost:8080/",
          "height": 282
        },
        "id": "WNvLZj9x7BOz",
        "outputId": "700c8cd2-8e12-46ab-f373-2ec9bc7b41a8"
      },
      "source": [
        "plt.scatter(news['fake'], news['length'])"
      ],
      "execution_count": null,
      "outputs": [
        {
          "output_type": "execute_result",
          "data": {
            "text/plain": [
              "<matplotlib.collections.PathCollection at 0x7f2be4af2250>"
            ]
          },
          "metadata": {},
          "execution_count": 18
        },
        {
          "output_type": "display_data",
          "data": {
            "image/png": "[encoded data removed]",
            "text/plain": [
              "<Figure size 432x288 with 1 Axes>"
            ]
          },
          "metadata": {
            "needs_background": "light"
          }
        }
      ]
    },
    {
      "cell_type": "code",
      "metadata": {
        "colab": {
          "base_uri": "https://localhost:8080/",
          "height": 794
        },
        "id": "6rzjXS1BvPzB",
        "outputId": "b11699db-7671-4e3c-861e-3f07de079ec0"
      },
      "source": [
        "result = news.groupby(['Labels']).count()\n",
        "print()\n",
        "print(result)\n",
        "\n",
        "result.plot(kind='bar')"
      ],
      "execution_count": null,
      "outputs": [
        {
          "output_type": "stream",
          "name": "stdout",
          "text": [
            "\n",
            "                                Post  fake  ...  non-hostile  length\n",
            "Labels                                      ...                     \n",
            "defamation                       305   305  ...          305     305\n",
            "defamation,fake                   34    34  ...           34      34\n",
            "defamation,fake,hate               9     9  ...            9       9\n",
            "defamation,fake,hate,offensive     9     9  ...            9       9\n",
            "defamation,fake,offensive         24    24  ...           24      24\n",
            "defamation,hate                   74    74  ...           74      74\n",
            "defamation,hate,offensive         28    28  ...           28      28\n",
            "defamation,offensive              81    81  ...           81      81\n",
            "fake                            1009  1009  ...         1009    1009\n",
            "fake,hate                         27    27  ...           27      27\n",
            "fake,hate,offensive                4     4  ...            4       4\n",
            "fake,offensive                    28    28  ...           28      28\n",
            "hate                             478   478  ...          478     478\n",
            "hate,offensive                   163   163  ...          163     163\n",
            "non-hostile                     3050  3050  ...         3050    3050\n",
            "offensive                        405   405  ...          405     405\n",
            "\n",
            "[16 rows x 7 columns]\n"
          ]
        },
        {
          "output_type": "execute_result",
          "data": {
            "text/plain": [
              "<matplotlib.axes._subplots.AxesSubplot at 0x7f2be4a5f8d0>"
            ]
          },
          "metadata": {},
          "execution_count": 19
        },
        {
          "output_type": "display_data",
          "data": {
            "image/png": "[encoded data removed]",
            "text/plain": [
              "<Figure size 432x288 with 1 Axes>"
            ]
          },
          "metadata": {
            "needs_background": "light"
          }
        }
      ]
    },
    {
      "cell_type": "code",
      "metadata": {
        "id": "zC7ERiScWGDi"
      },
      "source": [
        "x_df = news.iloc[:,:-7].values\n"
      ],
      "execution_count": null,
      "outputs": []
    },
    {
      "cell_type": "code",
      "metadata": {
        "id": "Ayz3h2W0F7KV",
        "colab": {
          "base_uri": "https://localhost:8080/"
        },
        "outputId": "40e03542-b5fd-4b03-91aa-593884e72b18"
      },
      "source": [
        "x_df"
      ],
      "execution_count": null,
      "outputs": [
        {
          "output_type": "execute_result",
          "data": {
            "text/plain": [
              "array([['मेरे देश के हिन्दु बहुत निराले है। कुछ तो पक्के राम भक्त है और कुछ बाबर के साले है \\n\\n🙏 जय श्री राम 🙏'],\n",
              "       ['सरकार हमेशा से किसानों की कमाई को बढ़ाने के लिए नई-नई स्कीमें लाती रहती है, ताकि उन पर ज्यादा आर्थिक बोझ न पड़े.\\n\\nhttps://t.co/8iy2MJSBAs'],\n",
              "       [\"सुशांत ने जो बिजनेस डील 9 जून को की थी, वो डील दीपेश को सुशांत की हत्या के दिन ही क्यों याद आई? देखिए 'पूछता है भारत' अर्नब के साथ रिपब्लिक भारत पर #LIVE :  https://t.co/G945HvzM0Z https://t.co/KfH7xF1IdM\"],\n",
              "       ...,\n",
              "       ['नौकरी गंवा चुके दोस्त की मदद: नगद के बजाए गिफ्ट कार्ड देने के बारे में सोचें, चुका सकते हैं नेटफ्लिक्स और जिम की फीस; हालचाल जानें, लेकिन ज्यादा नहीं https://t.co/l6kFR8eiBf #HelpYourFriend #Jobless #COVID19 https://t.co/YOKsAyndNa'],\n",
              "       ['बंगाल में हिन्दू मरे हैं इसलिए मुझे कोई फर्क नहीं पड़ता –#रविश कुमार\\n\\n'],\n",
              "       ['रक्षा मंत्री @rajnathsingh ने पूर्व राष्ट्रपति #PranabMukherjee के निधन पर शोक व्यक्त किया\\n\\nविवरण : https://t.co/aLE7aVtWy9']],\n",
              "      dtype=object)"
            ]
          },
          "metadata": {},
          "execution_count": 21
        }
      ]
    },
    {
      "cell_type": "code",
      "metadata": {
        "colab": {
          "base_uri": "https://localhost:8080/"
        },
        "id": "3cKKTks3T2Yu",
        "outputId": "2ae4f59d-bc0e-4933-b02c-68d6c3de9d39"
      },
      "source": [
        "from sklearn.feature_extraction.text import TfidfTransformer\n",
        "from sklearn.feature_extraction.text import CountVectorizer\n",
        "from sklearn.feature_extraction.text import TfidfVectorizer\n",
        "count_vectorizer = CountVectorizer()\n",
        "count_vectorizer.fit_transform(x_df.ravel())\n",
        "freq_term_matrix = count_vectorizer.transform(x_df.ravel())\n",
        "tfidf = TfidfTransformer(norm = \"l2\")\n",
        "tfidf.fit(freq_term_matrix)\n",
        "tf_idf_matrix = tfidf.fit_transform(freq_term_matrix)\n",
        "print(tf_idf_matrix)"
      ],
      "execution_count": null,
      "outputs": [
        {
          "output_type": "stream",
          "name": "stdout",
          "text": [
            "  (0, 8560)\t0.4788011212620214\n",
            "  (0, 8544)\t0.3879931928102296\n",
            "  (0, 8516)\t0.3717766973795364\n",
            "  (0, 8340)\t0.4825209264567969\n",
            "  (0, 7871)\t0.44400494428498294\n",
            "  (0, 7479)\t0.22809213243442533\n",
            "  (1, 9308)\t0.19600563451817907\n",
            "  (1, 9226)\t0.19560712213918902\n",
            "  (1, 8902)\t0.308813199885272\n",
            "  (1, 8482)\t0.23789465044650407\n",
            "  (1, 8381)\t0.11667703811056195\n",
            "  (1, 8361)\t0.24848894219184678\n",
            "  (1, 8256)\t0.5536481131028202\n",
            "  (1, 7551)\t0.20530014891042014\n",
            "  (1, 7236)\t0.2204035893539649\n",
            "  (1, 7067)\t0.2245539049226613\n",
            "  (1, 3064)\t0.0938824319126176\n",
            "  (1, 1950)\t0.09412100649669321\n",
            "  (1, 912)\t0.4802610172295583\n",
            "  (2, 9289)\t0.21430106846831662\n",
            "  (2, 8837)\t0.292458433979706\n",
            "  (2, 8381)\t0.11213205627383631\n",
            "  (2, 8377)\t0.28466239178990255\n",
            "  (2, 8291)\t0.31560931796731323\n",
            "  (2, 7834)\t0.18953687837728742\n",
            "  :\t:\n",
            "  (5725, 7479)\t0.09422577934169422\n",
            "  (5725, 6652)\t0.354501035525315\n",
            "  (5725, 3776)\t0.354501035525315\n",
            "  (5725, 3468)\t0.354501035525315\n",
            "  (5725, 3064)\t0.13859721333472189\n",
            "  (5725, 2982)\t0.354501035525315\n",
            "  (5725, 1998)\t0.20905117956385727\n",
            "  (5725, 1950)\t0.13894941738239874\n",
            "  (5726, 8885)\t0.4032555795309989\n",
            "  (5726, 8680)\t0.38804673189116085\n",
            "  (5726, 8445)\t0.4843364235338887\n",
            "  (5726, 8361)\t0.41544390022592687\n",
            "  (5726, 8327)\t0.23988737260248563\n",
            "  (5726, 7166)\t0.4712571638872513\n",
            "  (5727, 9044)\t0.33649209521027623\n",
            "  (5727, 8863)\t0.29477889453787787\n",
            "  (5727, 8795)\t0.2330469016321003\n",
            "  (5727, 8724)\t0.22955650542975028\n",
            "  (5727, 8381)\t0.13254842102102432\n",
            "  (5727, 8229)\t0.27991781187207393\n",
            "  (5727, 5059)\t0.4152799068661447\n",
            "  (5727, 4791)\t0.3225131372241965\n",
            "  (5727, 3064)\t0.10665310255681595\n",
            "  (5727, 1950)\t0.10692413004368963\n",
            "  (5727, 1278)\t0.5455901224661479\n"
          ]
        }
      ]
    },
    {
      "cell_type": "markdown",
      "metadata": {
        "id": "rQovYDRCLAVz"
      },
      "source": [
        "## **Non-Hostile**"
      ]
    },
    {
      "cell_type": "markdown",
      "metadata": {
        "id": "8uvJbE_Fj3qc"
      },
      "source": [
        "\n",
        "##Logistic Regression\n",
        "\n",
        "\n"
      ]
    },
    {
      "cell_type": "code",
      "metadata": {
        "id": "gFvvJVvYK9Ll"
      },
      "source": [
        "nh_df = news.iloc[:,-2].values"
      ],
      "execution_count": null,
      "outputs": []
    },
    {
      "cell_type": "code",
      "metadata": {
        "colab": {
          "base_uri": "https://localhost:8080/"
        },
        "id": "i3NEa2SYGNPz",
        "outputId": "c442c2b7-decd-4359-fffc-a4dae51402f9"
      },
      "source": [
        "nh_df"
      ],
      "execution_count": null,
      "outputs": [
        {
          "output_type": "execute_result",
          "data": {
            "text/plain": [
              "array([0, 1, 1, ..., 1, 0, 1])"
            ]
          },
          "metadata": {},
          "execution_count": 24
        }
      ]
    },
    {
      "cell_type": "code",
      "metadata": {
        "id": "nFCBMJoqWo-C"
      },
      "source": [
        "x_train, x_test, y_train, y_test = train_test_split(tf_idf_matrix,nh_df, test_size=0.113, random_state=0)"
      ],
      "execution_count": null,
      "outputs": []
    },
    {
      "cell_type": "code",
      "metadata": {
        "id": "TPfSUy4QXnHF",
        "colab": {
          "base_uri": "https://localhost:8080/"
        },
        "outputId": "dc1a96bd-8173-4abf-aef4-46828ac7e9bb"
      },
      "source": [
        "from sklearn.linear_model import LogisticRegression\n",
        "logreg = LogisticRegression()\n",
        "logreg.fit(x_train, y_train)\n",
        "\n",
        "Accuracy = logreg.score(x_test, y_test)\n",
        "print(Accuracy*100)"
      ],
      "execution_count": null,
      "outputs": [
        {
          "output_type": "stream",
          "name": "stdout",
          "text": [
            "95.37037037037037\n"
          ]
        }
      ]
    },
    {
      "cell_type": "code",
      "metadata": {
        "id": "bH3Bp41aRXT_"
      },
      "source": [
        "y_pred =logreg.predict(x_test)"
      ],
      "execution_count": null,
      "outputs": []
    },
    {
      "cell_type": "code",
      "metadata": {
        "colab": {
          "base_uri": "https://localhost:8080/"
        },
        "id": "C7EvXYI6TIgf",
        "outputId": "fcdd9521-ab0a-42c2-c7b6-e43651039b2d"
      },
      "source": [
        "from sklearn.metrics import confusion_matrix\n",
        "c = confusion_matrix(y_test, y_pred)\n",
        "c"
      ],
      "execution_count": null,
      "outputs": [
        {
          "output_type": "execute_result",
          "data": {
            "text/plain": [
              "array([[294,   9],\n",
              "       [ 21, 324]])"
            ]
          },
          "metadata": {},
          "execution_count": 28
        }
      ]
    },
    {
      "cell_type": "code",
      "metadata": {
        "colab": {
          "base_uri": "https://localhost:8080/",
          "height": 174
        },
        "id": "BHwGinJQVI7N",
        "outputId": "f98eb075-5e75-4d1a-f40c-4e2329f96237"
      },
      "source": [
        "import seaborn as sn\n",
        "df_cm = pd.DataFrame(c, range(2), range(2))\n",
        "plt.figure(figsize = (2, 2))\n",
        "sn.heatmap(df_cm, annot=True)"
      ],
      "execution_count": null,
      "outputs": [
        {
          "output_type": "execute_result",
          "data": {
            "text/plain": [
              "<matplotlib.axes._subplots.AxesSubplot at 0x7f2be43c3a50>"
            ]
          },
          "metadata": {},
          "execution_count": 29
        },
        {
          "output_type": "display_data",
          "data": {
            "image/png": "[encoded data removed]",
            "text/plain": [
              "<Figure size 144x144 with 2 Axes>"
            ]
          },
          "metadata": {
            "needs_background": "light"
          }
        }
      ]
    },
    {
      "cell_type": "markdown",
      "metadata": {
        "id": "v2nbnEnJj_ii"
      },
      "source": [
        "###Naive-Bayes"
      ]
    },
    {
      "cell_type": "code",
      "metadata": {
        "id": "rKOeZzrDJmXB"
      },
      "source": [
        "x_train, x_test, y_train, y_test = train_test_split(tf_idf_matrix,nh_df, test_size=0.27, random_state=0)\n",
        "                                                    "
      ],
      "execution_count": null,
      "outputs": []
    },
    {
      "cell_type": "code",
      "metadata": {
        "colab": {
          "base_uri": "https://localhost:8080/"
        },
        "id": "IPzB-CQDCha9",
        "outputId": "730b3d29-de2e-4447-d5c3-e745a1553bf9"
      },
      "source": [
        "from sklearn.naive_bayes import MultinomialNB\n",
        "NB = MultinomialNB()\n",
        "NB.fit(x_train, y_train)\n",
        "Accuracy = NB.score(x_test, y_test)\n",
        "print(Accuracy*100)"
      ],
      "execution_count": null,
      "outputs": [
        {
          "output_type": "stream",
          "name": "stdout",
          "text": [
            "87.36616702355461\n"
          ]
        }
      ]
    },
    {
      "cell_type": "code",
      "metadata": {
        "colab": {
          "base_uri": "https://localhost:8080/",
          "height": 174
        },
        "id": "MLQTOQpaV8lN",
        "outputId": "8e64dbba-b371-467a-e370-348e44cd90d3"
      },
      "source": [
        "y_pred =NB.predict(x_test)\n",
        "from sklearn.metrics import confusion_matrix\n",
        "c = confusion_matrix(y_test, y_pred)\n",
        "import seaborn as sn\n",
        "df_cm = pd.DataFrame(c, range(2), range(2))\n",
        "plt.figure(figsize = (2, 2))\n",
        "sn.heatmap(df_cm, annot=True)"
      ],
      "execution_count": null,
      "outputs": [
        {
          "output_type": "execute_result",
          "data": {
            "text/plain": [
              "<matplotlib.axes._subplots.AxesSubplot at 0x7f2be3c2f7d0>"
            ]
          },
          "metadata": {},
          "execution_count": 32
        },
        {
          "output_type": "display_data",
          "data": {
            "image/png": "[encoded data removed]",
            "text/plain": [
              "<Figure size 144x144 with 2 Axes>"
            ]
          },
          "metadata": {
            "needs_background": "light"
          }
        }
      ]
    },
    {
      "cell_type": "markdown",
      "metadata": {
        "id": "IRAe8K2ulSPs"
      },
      "source": [
        "##Decision Tree"
      ]
    },
    {
      "cell_type": "code",
      "metadata": {
        "id": "kX7wN65hlWmC"
      },
      "source": [
        "x_train, x_test, y_train, y_test = train_test_split(tf_idf_matrix,nh_df, test_size=0.376, random_state=0)"
      ],
      "execution_count": null,
      "outputs": []
    },
    {
      "cell_type": "code",
      "metadata": {
        "id": "YKXywaqSYgm1",
        "colab": {
          "base_uri": "https://localhost:8080/"
        },
        "outputId": "22a16587-103a-4887-b455-a1d28addd02f"
      },
      "source": [
        "from sklearn.tree import DecisionTreeClassifier\n",
        "clf = DecisionTreeClassifier()\n",
        "clf.fit(x_train, y_train)\n",
        "Accuracy = clf.score(x_test, y_test)\n",
        "print(Accuracy*100)"
      ],
      "execution_count": null,
      "outputs": [
        {
          "output_type": "stream",
          "name": "stdout",
          "text": [
            "92.10770659238626\n"
          ]
        }
      ]
    },
    {
      "cell_type": "code",
      "metadata": {
        "colab": {
          "base_uri": "https://localhost:8080/",
          "height": 174
        },
        "id": "_i7Tz-rWWSSV",
        "outputId": "9ae42edf-2cd3-496c-f6d4-e5a65f58f719"
      },
      "source": [
        "y_pred =clf.predict(x_test)\n",
        "from sklearn.metrics import confusion_matrix\n",
        "c = confusion_matrix(y_test, y_pred)\n",
        "import seaborn as sn\n",
        "df_cm = pd.DataFrame(c, range(2), range(2))\n",
        "plt.figure(figsize = (2, 2))\n",
        "sn.heatmap(df_cm, annot=True)"
      ],
      "execution_count": null,
      "outputs": [
        {
          "output_type": "execute_result",
          "data": {
            "text/plain": [
              "<matplotlib.axes._subplots.AxesSubplot at 0x7f2bdbb57710>"
            ]
          },
          "metadata": {},
          "execution_count": 35
        },
        {
          "output_type": "display_data",
          "data": {
            "image/png": "[encoded data removed]",
            "text/plain": [
              "<Figure size 144x144 with 2 Axes>"
            ]
          },
          "metadata": {
            "needs_background": "light"
          }
        }
      ]
    },
    {
      "cell_type": "markdown",
      "metadata": {
        "id": "P23WUyr7l9zT"
      },
      "source": [
        "# ##Passive-Aggressive Classifier"
      ]
    },
    {
      "cell_type": "code",
      "metadata": {
        "id": "OEv5VDlHmCUL"
      },
      "source": [
        "x_train, x_test, y_train, y_test = train_test_split(tf_idf_matrix,nh_df, test_size=0.31, random_state=0)"
      ],
      "execution_count": null,
      "outputs": []
    },
    {
      "cell_type": "code",
      "metadata": {
        "colab": {
          "base_uri": "https://localhost:8080/"
        },
        "id": "hFboJq8bYsGz",
        "outputId": "ba843c7d-3857-4784-d822-82112226c7f3"
      },
      "source": [
        "from sklearn.metrics import accuracy_score\n",
        "from sklearn.linear_model import PassiveAggressiveClassifier\n",
        "pac=PassiveAggressiveClassifier(max_iter=50)\n",
        "pac.fit(x_train,y_train)"
      ],
      "execution_count": null,
      "outputs": [
        {
          "output_type": "execute_result",
          "data": {
            "text/plain": [
              "PassiveAggressiveClassifier(C=1.0, average=False, class_weight=None,\n",
              "                            early_stopping=False, fit_intercept=True,\n",
              "                            loss='hinge', max_iter=50, n_iter_no_change=5,\n",
              "                            n_jobs=None, random_state=None, shuffle=True,\n",
              "                            tol=0.001, validation_fraction=0.1, verbose=0,\n",
              "                            warm_start=False)"
            ]
          },
          "metadata": {},
          "execution_count": 37
        }
      ]
    },
    {
      "cell_type": "code",
      "metadata": {
        "colab": {
          "base_uri": "https://localhost:8080/"
        },
        "id": "Dn3gZ0fuY_7j",
        "outputId": "b956907b-dcdb-46c4-d0e1-c72e4ab356fe"
      },
      "source": [
        "y_pred=pac.predict(x_test)\n",
        "score=accuracy_score(y_test,y_pred)\n",
        "print(f'Accuracy: {round(score*100,2)}%')"
      ],
      "execution_count": null,
      "outputs": [
        {
          "output_type": "stream",
          "name": "stdout",
          "text": [
            "Accuracy: 93.02%\n"
          ]
        }
      ]
    },
    {
      "cell_type": "code",
      "metadata": {
        "colab": {
          "base_uri": "https://localhost:8080/",
          "height": 174
        },
        "id": "NB_in_g6XAvr",
        "outputId": "477439e4-e256-45ae-90e3-6864e4743192"
      },
      "source": [
        "y_pred =pac.predict(x_test)\n",
        "from sklearn.metrics import confusion_matrix\n",
        "c = confusion_matrix(y_test, y_pred)\n",
        "import seaborn as sn\n",
        "df_cm = pd.DataFrame(c, range(2), range(2))\n",
        "plt.figure(figsize = (2, 2))\n",
        "sn.heatmap(df_cm, annot=True)"
      ],
      "execution_count": null,
      "outputs": [
        {
          "output_type": "execute_result",
          "data": {
            "text/plain": [
              "<matplotlib.axes._subplots.AxesSubplot at 0x7f2be3c2fc90>"
            ]
          },
          "metadata": {},
          "execution_count": 39
        },
        {
          "output_type": "display_data",
          "data": {
            "image/png": "[encoded data removed]",
            "text/plain": [
              "<Figure size 144x144 with 2 Axes>"
            ]
          },
          "metadata": {
            "needs_background": "light"
          }
        }
      ]
    },
    {
      "cell_type": "markdown",
      "metadata": {
        "id": "UTnA1GGULSUa"
      },
      "source": [
        "### **Offensive**"
      ]
    },
    {
      "cell_type": "markdown",
      "metadata": {
        "id": "80LZPfY2mcDb"
      },
      "source": [
        "\n",
        "##Logistic Regression\n",
        "\n",
        "\n"
      ]
    },
    {
      "cell_type": "code",
      "metadata": {
        "colab": {
          "base_uri": "https://localhost:8080/"
        },
        "id": "f_7enuA2LZC_",
        "outputId": "68456914-77ad-422c-85ad-25154a8a6977"
      },
      "source": [
        "of_df = news.iloc[:,-3].values\n",
        "of_df"
      ],
      "execution_count": null,
      "outputs": [
        {
          "output_type": "execute_result",
          "data": {
            "text/plain": [
              "array([1, 0, 0, ..., 0, 0, 0])"
            ]
          },
          "metadata": {},
          "execution_count": 40
        }
      ]
    },
    {
      "cell_type": "code",
      "metadata": {
        "id": "6sYG7MQHLkAg"
      },
      "source": [
        "x_train, x_test, y_train, y_test = train_test_split(tf_idf_matrix,of_df, test_size=0.27, random_state=0)"
      ],
      "execution_count": null,
      "outputs": []
    },
    {
      "cell_type": "code",
      "metadata": {
        "colab": {
          "base_uri": "https://localhost:8080/"
        },
        "id": "xp-H5xJnLqlm",
        "outputId": "894f6bee-61a4-438c-b510-1b8c35fcc96a"
      },
      "source": [
        "from sklearn.linear_model import LogisticRegression\n",
        "logreg = LogisticRegression()\n",
        "logreg.fit(x_train, y_train)\n",
        "Accuracy = logreg.score(x_test, y_test)\n",
        "print(Accuracy*100)"
      ],
      "execution_count": null,
      "outputs": [
        {
          "output_type": "stream",
          "name": "stdout",
          "text": [
            "88.1060116354234\n"
          ]
        }
      ]
    },
    {
      "cell_type": "code",
      "metadata": {
        "colab": {
          "base_uri": "https://localhost:8080/",
          "height": 174
        },
        "id": "O5WcPzOMX7Kr",
        "outputId": "8ecd7094-eab7-448b-d25a-bd37bb0a38ea"
      },
      "source": [
        "y_pred = logreg.predict(x_test)\n",
        "from sklearn.metrics import confusion_matrix\n",
        "c = confusion_matrix(y_test, y_pred)\n",
        "import seaborn as sn\n",
        "df_cm = pd.DataFrame(c, range(2), range(2))\n",
        "plt.figure(figsize = (2, 2))\n",
        "sn.heatmap(df_cm, annot=True)"
      ],
      "execution_count": null,
      "outputs": [
        {
          "output_type": "execute_result",
          "data": {
            "text/plain": [
              "<matplotlib.axes._subplots.AxesSubplot at 0x7f2bda143610>"
            ]
          },
          "metadata": {},
          "execution_count": 43
        },
        {
          "output_type": "display_data",
          "data": {
            "image/png": "[encoded data removed]",
            "text/plain": [
              "<Figure size 144x144 with 2 Axes>"
            ]
          },
          "metadata": {
            "needs_background": "light"
          }
        }
      ]
    },
    {
      "cell_type": "markdown",
      "metadata": {
        "id": "nassFf3emgrx"
      },
      "source": [
        "##Naive-Bayes"
      ]
    },
    {
      "cell_type": "code",
      "metadata": {
        "id": "dlJyRZdlmkyr"
      },
      "source": [
        "x_train, x_test, y_train, y_test = train_test_split(tf_idf_matrix,of_df, test_size=0.163, random_state=0)"
      ],
      "execution_count": null,
      "outputs": []
    },
    {
      "cell_type": "code",
      "metadata": {
        "colab": {
          "base_uri": "https://localhost:8080/"
        },
        "id": "23PWOP0zm710",
        "outputId": "730b3d29-de2e-4447-d5c3-e745a1553bf9"
      },
      "source": [
        "from sklearn.naive_bayes import MultinomialNB\n",
        "NB = MultinomialNB()\n",
        "NB.fit(x_train, y_train)\n",
        "Accuracy = NB.score(x_test, y_test)\n",
        "print(Accuracy*100)"
      ],
      "execution_count": null,
      "outputs": [
        {
          "output_type": "stream",
          "name": "stdout",
          "text": [
            "87.36616702355461\n"
          ]
        }
      ]
    },
    {
      "cell_type": "markdown",
      "metadata": {
        "id": "FVaB_7Nfnc_m"
      },
      "source": [
        "##Decision Tree"
      ]
    },
    {
      "cell_type": "code",
      "metadata": {
        "id": "BP0Fc-9vnfue"
      },
      "source": [
        "x_train, x_test, y_train, y_test = train_test_split(tf_idf_matrix,of_df, test_size=0.23, random_state=0)"
      ],
      "execution_count": null,
      "outputs": []
    },
    {
      "cell_type": "code",
      "metadata": {
        "colab": {
          "base_uri": "https://localhost:8080/"
        },
        "id": "oFaCNeWNnjEp",
        "outputId": "027257f7-7da0-4faf-eca9-9596cf33777b"
      },
      "source": [
        "from sklearn.tree import DecisionTreeClassifier\n",
        "clf = DecisionTreeClassifier()\n",
        "clf.fit(x_train, y_train)\n",
        "Accuracy = clf.score(x_test, y_test)\n",
        "print(Accuracy*100)"
      ],
      "execution_count": null,
      "outputs": [
        {
          "output_type": "stream",
          "name": "stdout",
          "text": [
            "85.5083459787557\n"
          ]
        }
      ]
    },
    {
      "cell_type": "markdown",
      "metadata": {
        "id": "wdpZ7fPcnZ2L"
      },
      "source": [
        "##Passive-Aggressive Classifier"
      ]
    },
    {
      "cell_type": "code",
      "metadata": {
        "id": "3u6hSlVeoC2-"
      },
      "source": [
        "x_train, x_test, y_train, y_test = train_test_split(tf_idf_matrix,of_df, test_size=0.27, random_state=0)"
      ],
      "execution_count": null,
      "outputs": []
    },
    {
      "cell_type": "code",
      "metadata": {
        "colab": {
          "base_uri": "https://localhost:8080/"
        },
        "id": "EdByXYE3oFcX",
        "outputId": "5d23f4ab-7e74-42e6-d0e1-0728103dd07e"
      },
      "source": [
        "from sklearn.metrics import accuracy_score\n",
        "from sklearn.linear_model import PassiveAggressiveClassifier\n",
        "pac=PassiveAggressiveClassifier(max_iter=50)\n",
        "pac.fit(x_train,y_train)"
      ],
      "execution_count": null,
      "outputs": [
        {
          "output_type": "execute_result",
          "data": {
            "text/plain": [
              "PassiveAggressiveClassifier(C=1.0, average=False, class_weight=None,\n",
              "                            early_stopping=False, fit_intercept=True,\n",
              "                            loss='hinge', max_iter=50, n_iter_no_change=5,\n",
              "                            n_jobs=None, random_state=None, shuffle=True,\n",
              "                            tol=0.001, validation_fraction=0.1, verbose=0,\n",
              "                            warm_start=False)"
            ]
          },
          "metadata": {},
          "execution_count": 49
        }
      ]
    },
    {
      "cell_type": "code",
      "metadata": {
        "colab": {
          "base_uri": "https://localhost:8080/"
        },
        "id": "c8CCFxLYoI1r",
        "outputId": "873259fb-3549-4dd9-dcca-a9acb098c5cb"
      },
      "source": [
        "y_pred=pac.predict(x_test)\n",
        "score=accuracy_score(y_test,y_pred)\n",
        "print(f'Accuracy: {round(score*100,2)}%')"
      ],
      "execution_count": null,
      "outputs": [
        {
          "output_type": "stream",
          "name": "stdout",
          "text": [
            "Accuracy: 85.46%\n"
          ]
        }
      ]
    },
    {
      "cell_type": "markdown",
      "metadata": {
        "id": "kpOwAh-tNPbb"
      },
      "source": [
        "### **Defamation**"
      ]
    },
    {
      "cell_type": "markdown",
      "metadata": {
        "id": "fYO0aurZokZZ"
      },
      "source": [
        "### Logistic Regression"
      ]
    },
    {
      "cell_type": "code",
      "metadata": {
        "colab": {
          "base_uri": "https://localhost:8080/"
        },
        "id": "DRvs_itdLtnv",
        "outputId": "2e389db1-791c-4768-adc9-d7de0e85c73e"
      },
      "source": [
        "d_df = news.iloc[:,-3].values\n",
        "d_df"
      ],
      "execution_count": null,
      "outputs": [
        {
          "output_type": "execute_result",
          "data": {
            "text/plain": [
              "array([1, 0, 0, ..., 0, 0, 0])"
            ]
          },
          "metadata": {},
          "execution_count": 51
        }
      ]
    },
    {
      "cell_type": "code",
      "metadata": {
        "id": "ELbWXCtYNY8T"
      },
      "source": [
        "x_train, x_test, y_train, y_test = train_test_split(tf_idf_matrix,d_df, test_size=0.222, random_state=0)"
      ],
      "execution_count": null,
      "outputs": []
    },
    {
      "cell_type": "code",
      "metadata": {
        "colab": {
          "base_uri": "https://localhost:8080/"
        },
        "id": "g7SoLm-uNbuN",
        "outputId": "8db16e6b-cc38-46ef-de9b-87c1d79de084"
      },
      "source": [
        "from sklearn.linear_model import LogisticRegression\n",
        "logreg = LogisticRegression()\n",
        "logreg.fit(x_train, y_train)\n",
        "Accuracy = logreg.score(x_test, y_test)\n",
        "print(Accuracy*100)"
      ],
      "execution_count": null,
      "outputs": [
        {
          "output_type": "stream",
          "name": "stdout",
          "text": [
            "88.75786163522012\n"
          ]
        }
      ]
    },
    {
      "cell_type": "code",
      "metadata": {
        "colab": {
          "base_uri": "https://localhost:8080/",
          "height": 174
        },
        "id": "uZL6UL09YioM",
        "outputId": "1da4261b-91cf-4e1f-d5ff-1c1514e32b62"
      },
      "source": [
        "y_pred = logreg.predict(x_test)\n",
        "from sklearn.metrics import confusion_matrix\n",
        "c = confusion_matrix(y_test, y_pred)\n",
        "import seaborn as sn\n",
        "df_cm = pd.DataFrame(c, range(2), range(2))\n",
        "plt.figure(figsize = (2, 2))\n",
        "sn.heatmap(df_cm, annot=True)"
      ],
      "execution_count": null,
      "outputs": [
        {
          "output_type": "execute_result",
          "data": {
            "text/plain": [
              "<matplotlib.axes._subplots.AxesSubplot at 0x7f2be4526f50>"
            ]
          },
          "metadata": {},
          "execution_count": 54
        },
        {
          "output_type": "display_data",
          "data": {
            "image/png": "[encoded data removed]",
            "text/plain": [
              "<Figure size 144x144 with 2 Axes>"
            ]
          },
          "metadata": {
            "needs_background": "light"
          }
        }
      ]
    },
    {
      "cell_type": "markdown",
      "metadata": {
        "id": "iJa4PqKYo6Cq"
      },
      "source": [
        "### Naive-Bayes"
      ]
    },
    {
      "cell_type": "code",
      "metadata": {
        "id": "Zf70avcMNd8Q",
        "colab": {
          "base_uri": "https://localhost:8080/"
        },
        "outputId": "621eaab1-5b8e-4c82-88ef-b4af7fc020d7"
      },
      "source": [
        "x_train, x_test, y_train, y_test = train_test_split(tf_idf_matrix,d_df, test_size=0.213, random_state=0)\n",
        "from sklearn.naive_bayes import MultinomialNB\n",
        "NB = MultinomialNB()\n",
        "NB.fit(x_train, y_train)\n",
        "Accuracy = NB.score(x_test, y_test)\n",
        "print(Accuracy*100)\n"
      ],
      "execution_count": null,
      "outputs": [
        {
          "output_type": "stream",
          "name": "stdout",
          "text": [
            "87.7968877968878\n"
          ]
        }
      ]
    },
    {
      "cell_type": "markdown",
      "metadata": {
        "id": "jtWXKdf0pI3a"
      },
      "source": [
        "### Decision Tree"
      ]
    },
    {
      "cell_type": "code",
      "metadata": {
        "colab": {
          "base_uri": "https://localhost:8080/"
        },
        "id": "wAYlWzJppHqq",
        "outputId": "e6059788-aae5-4e90-95be-e8a7997a39bb"
      },
      "source": [
        "\n",
        "x_train, x_test, y_train, y_test = train_test_split(tf_idf_matrix,d_df, test_size=0.27, random_state=0)\n",
        "\n",
        "from sklearn.tree import DecisionTreeClassifier\n",
        "clf = DecisionTreeClassifier()\n",
        "clf.fit(x_train, y_train)\n",
        "Accuracy = clf.score(x_test, y_test)\n",
        "print(Accuracy*100)\n",
        "\n"
      ],
      "execution_count": null,
      "outputs": [
        {
          "output_type": "stream",
          "name": "stdout",
          "text": [
            "85.00323206205559\n"
          ]
        }
      ]
    },
    {
      "cell_type": "markdown",
      "metadata": {
        "id": "AZBJNjq7pTFZ"
      },
      "source": [
        "## Passive-Aggressive Classifier\n"
      ]
    },
    {
      "cell_type": "code",
      "metadata": {
        "colab": {
          "base_uri": "https://localhost:8080/"
        },
        "id": "08LM5GORpR8i",
        "outputId": "edae6de9-171c-4c31-c1e0-fc1cfbafdd61"
      },
      "source": [
        "\n",
        "x_train, x_test, y_train, y_test = train_test_split(tf_idf_matrix,d_df, test_size=0.167, random_state=0)\n",
        "\n",
        "from sklearn.metrics import accuracy_score\n",
        "from sklearn.linear_model import PassiveAggressiveClassifier\n",
        "pac=PassiveAggressiveClassifier(max_iter=50)\n",
        "pac.fit(x_train,y_train)\n",
        "PassiveAggressiveClassifier(C=1.0, average=False, class_weight=None,\n",
        "                            early_stopping=False, fit_intercept=True,\n",
        "                            loss='hinge', max_iter=50, n_iter_no_change=5,\n",
        "                            n_jobs=None, random_state=None, shuffle=True,\n",
        "                            tol=0.001, validation_fraction=0.1, verbose=0,\n",
        "                            warm_start=False)\n"
      ],
      "execution_count": null,
      "outputs": [
        {
          "output_type": "execute_result",
          "data": {
            "text/plain": [
              "PassiveAggressiveClassifier(C=1.0, average=False, class_weight=None,\n",
              "                            early_stopping=False, fit_intercept=True,\n",
              "                            loss='hinge', max_iter=50, n_iter_no_change=5,\n",
              "                            n_jobs=None, random_state=None, shuffle=True,\n",
              "                            tol=0.001, validation_fraction=0.1, verbose=0,\n",
              "                            warm_start=False)"
            ]
          },
          "metadata": {},
          "execution_count": 57
        }
      ]
    },
    {
      "cell_type": "code",
      "metadata": {
        "colab": {
          "base_uri": "https://localhost:8080/"
        },
        "id": "kzRgFQHDpg8L",
        "outputId": "5a9a78a4-1b8f-48df-fb47-2e1aabe37ac7"
      },
      "source": [
        "y_pred=pac.predict(x_test)\n",
        "score=accuracy_score(y_test,y_pred)\n",
        "print(f'Accuracy: {round(score*100,2)}%')"
      ],
      "execution_count": null,
      "outputs": [
        {
          "output_type": "stream",
          "name": "stdout",
          "text": [
            "Accuracy: 84.95%\n"
          ]
        }
      ]
    },
    {
      "cell_type": "markdown",
      "metadata": {
        "id": "wPy_Wx3lONFE"
      },
      "source": [
        "### **Hate**"
      ]
    },
    {
      "cell_type": "markdown",
      "metadata": {
        "id": "bRLImyMapnJi"
      },
      "source": [
        "## Logistic Regression"
      ]
    },
    {
      "cell_type": "code",
      "metadata": {
        "colab": {
          "base_uri": "https://localhost:8080/"
        },
        "id": "dg1CEFpgONxZ",
        "outputId": "9db3ea19-1fb5-4ead-f78e-fe4dd963ef38"
      },
      "source": [
        "h_df = news.iloc[:,-4].values\n",
        "h_df"
      ],
      "execution_count": null,
      "outputs": [
        {
          "output_type": "execute_result",
          "data": {
            "text/plain": [
              "array([0, 0, 0, ..., 0, 0, 0])"
            ]
          },
          "metadata": {},
          "execution_count": 59
        }
      ]
    },
    {
      "cell_type": "code",
      "metadata": {
        "id": "GrEEEpWfOU--"
      },
      "source": [],
      "execution_count": null,
      "outputs": []
    },
    {
      "cell_type": "code",
      "metadata": {
        "id": "8yT089yOOapy"
      },
      "source": [
        "x_train, x_test, y_train, y_test = train_test_split(tf_idf_matrix,h_df, test_size=0.2, random_state=0)"
      ],
      "execution_count": null,
      "outputs": []
    },
    {
      "cell_type": "code",
      "metadata": {
        "colab": {
          "base_uri": "https://localhost:8080/"
        },
        "id": "CfUNBmoVObZL",
        "outputId": "78b9b41a-eb97-49d4-b10d-62d05e934e5c"
      },
      "source": [
        "from sklearn.linear_model import LogisticRegression\n",
        "logreg = LogisticRegression()\n",
        "logreg.fit(x_train, y_train)\n",
        "Accuracy = logreg.score(x_test, y_test)\n",
        "print(Accuracy*100)"
      ],
      "execution_count": null,
      "outputs": [
        {
          "output_type": "stream",
          "name": "stdout",
          "text": [
            "89.3542757417103\n"
          ]
        }
      ]
    },
    {
      "cell_type": "markdown",
      "metadata": {
        "id": "Clw5SwotpvLK"
      },
      "source": [
        "## Naive-Bayes\n"
      ]
    },
    {
      "cell_type": "code",
      "metadata": {
        "id": "th0Quf3dOs0b",
        "colab": {
          "base_uri": "https://localhost:8080/"
        },
        "outputId": "c9ff1986-355f-441f-a059-c5eab44094ec"
      },
      "source": [
        "\n",
        "x_train, x_test, y_train, y_test = train_test_split(tf_idf_matrix,h_df, test_size=0.213, random_state=0)\n",
        "from sklearn.naive_bayes import MultinomialNB\n",
        "NB = MultinomialNB()\n",
        "NB.fit(x_train, y_train)\n",
        "Accuracy = NB.score(x_test, y_test)\n",
        "print(Accuracy*100)\n"
      ],
      "execution_count": null,
      "outputs": [
        {
          "output_type": "stream",
          "name": "stdout",
          "text": [
            "89.35298935298935\n"
          ]
        }
      ]
    },
    {
      "cell_type": "code",
      "metadata": {
        "colab": {
          "base_uri": "https://localhost:8080/",
          "height": 174
        },
        "id": "RKR-qF3lY966",
        "outputId": "656ee0ce-d092-42d4-f7f5-5445e915b440"
      },
      "source": [
        "\n",
        "y_pred = NB.predict(x_test)\n",
        "from sklearn.metrics import confusion_matrix\n",
        "c = confusion_matrix(y_test, y_pred)\n",
        "import seaborn as sn\n",
        "df_cm = pd.DataFrame(c, range(2), range(2))\n",
        "plt.figure(figsize = (2, 2))\n",
        "sn.heatmap(df_cm, annot=True)"
      ],
      "execution_count": null,
      "outputs": [
        {
          "output_type": "execute_result",
          "data": {
            "text/plain": [
              "<matplotlib.axes._subplots.AxesSubplot at 0x7f2bd9f16750>"
            ]
          },
          "metadata": {},
          "execution_count": 63
        },
        {
          "output_type": "display_data",
          "data": {
            "image/png": "[encoded data removed]",
            "text/plain": [
              "<Figure size 144x144 with 2 Axes>"
            ]
          },
          "metadata": {
            "needs_background": "light"
          }
        }
      ]
    },
    {
      "cell_type": "markdown",
      "metadata": {
        "id": "fR-ig1bkp57i"
      },
      "source": [
        "### Decision Tree\n"
      ]
    },
    {
      "cell_type": "code",
      "metadata": {
        "colab": {
          "base_uri": "https://localhost:8080/"
        },
        "id": "sfoZ7mt7p_lK",
        "outputId": "675c2830-37c5-4b8a-edb9-ba7ec9f7be91"
      },
      "source": [
        "\n",
        "x_train, x_test, y_train, y_test = train_test_split(tf_idf_matrix,h_df, test_size=0.27, random_state=0)\n",
        "\n",
        "from sklearn.tree import DecisionTreeClassifier\n",
        "clf = DecisionTreeClassifier()\n",
        "clf.fit(x_train, y_train)\n",
        "Accuracy = clf.score(x_test, y_test)\n",
        "print(Accuracy*100)\n",
        "\n"
      ],
      "execution_count": null,
      "outputs": [
        {
          "output_type": "stream",
          "name": "stdout",
          "text": [
            "87.13639301874596\n"
          ]
        }
      ]
    },
    {
      "cell_type": "markdown",
      "metadata": {
        "id": "DxBm4D-jqEry"
      },
      "source": [
        "\n",
        "### Passive-Aggressive Classifier\n"
      ]
    },
    {
      "cell_type": "code",
      "metadata": {
        "colab": {
          "base_uri": "https://localhost:8080/"
        },
        "id": "r20HDCP5qVra",
        "outputId": "cf9bc936-82a2-4748-82c6-002389d18221"
      },
      "source": [
        "\n",
        "x_train, x_test, y_train, y_test = train_test_split(tf_idf_matrix,h_df, test_size=0.217, random_state=0)\n",
        "\n",
        "from sklearn.metrics import accuracy_score\n",
        "from sklearn.linear_model import PassiveAggressiveClassifier\n",
        "pac=PassiveAggressiveClassifier(max_iter=50)\n",
        "pac.fit(x_train,y_train)\n",
        "PassiveAggressiveClassifier(C=1.0, average=False, class_weight=None,\n",
        "                            early_stopping=False, fit_intercept=True,\n",
        "                            loss='hinge', max_iter=50, n_iter_no_change=5,\n",
        "                            n_jobs=None, random_state=None, shuffle=True,\n",
        "                            tol=0.001, validation_fraction=0.1, verbose=0,\n",
        "                            warm_start=False)\n"
      ],
      "execution_count": null,
      "outputs": [
        {
          "output_type": "execute_result",
          "data": {
            "text/plain": [
              "PassiveAggressiveClassifier(C=1.0, average=False, class_weight=None,\n",
              "                            early_stopping=False, fit_intercept=True,\n",
              "                            loss='hinge', max_iter=50, n_iter_no_change=5,\n",
              "                            n_jobs=None, random_state=None, shuffle=True,\n",
              "                            tol=0.001, validation_fraction=0.1, verbose=0,\n",
              "                            warm_start=False)"
            ]
          },
          "metadata": {},
          "execution_count": 65
        }
      ]
    },
    {
      "cell_type": "code",
      "metadata": {
        "colab": {
          "base_uri": "https://localhost:8080/"
        },
        "id": "V2kEb6TxqfoS",
        "outputId": "778605a4-ccab-4cd6-9c30-2b54e857a161"
      },
      "source": [
        "y_pred=pac.predict(x_test)\n",
        "score=accuracy_score(y_test,y_pred)\n",
        "print(f'Accuracy: {round(score*100,2)}%')"
      ],
      "execution_count": null,
      "outputs": [
        {
          "output_type": "stream",
          "name": "stdout",
          "text": [
            "Accuracy: 87.13%\n"
          ]
        }
      ]
    },
    {
      "cell_type": "markdown",
      "metadata": {
        "id": "D1uSXNoYPHaj"
      },
      "source": [
        "### **Fake**"
      ]
    },
    {
      "cell_type": "markdown",
      "metadata": {
        "id": "5HXX5WPFqxeS"
      },
      "source": [
        "## Logistic Regression"
      ]
    },
    {
      "cell_type": "code",
      "metadata": {
        "colab": {
          "base_uri": "https://localhost:8080/"
        },
        "id": "B_1lLP8rPIhw",
        "outputId": "504608b1-0d5f-42a5-cbeb-b09f494e408f"
      },
      "source": [
        "f_df= news.iloc[:,-5].values\n",
        "f_df"
      ],
      "execution_count": null,
      "outputs": [
        {
          "output_type": "execute_result",
          "data": {
            "text/plain": [
              "array([1, 0, 0, ..., 0, 0, 0])"
            ]
          },
          "metadata": {},
          "execution_count": 67
        }
      ]
    },
    {
      "cell_type": "code",
      "metadata": {
        "id": "ojGp1pSlPVMF"
      },
      "source": [
        "x_train, x_test, y_train, y_test = train_test_split(tf_idf_matrix,f_df, test_size=0.112, random_state=0)"
      ],
      "execution_count": null,
      "outputs": []
    },
    {
      "cell_type": "code",
      "metadata": {
        "colab": {
          "base_uri": "https://localhost:8080/"
        },
        "id": "vJLoqg5ePPls",
        "outputId": "8b5a00d3-bc9b-4d76-ede3-134936cfbea0"
      },
      "source": [
        "from sklearn.linear_model import LogisticRegression\n",
        "logreg = LogisticRegression()\n",
        "logreg.fit(x_train, y_train)\n",
        "Accuracy = logreg.score(x_test, y_test)\n",
        "print(Accuracy*100)"
      ],
      "execution_count": null,
      "outputs": [
        {
          "output_type": "stream",
          "name": "stdout",
          "text": [
            "86.6043613707165\n"
          ]
        }
      ]
    },
    {
      "cell_type": "code",
      "metadata": {
        "colab": {
          "base_uri": "https://localhost:8080/",
          "height": 174
        },
        "id": "BsdSyvDAZZrh",
        "outputId": "c1a678b7-2da7-44d3-aaa9-96d4877722df"
      },
      "source": [
        "y_pred = logreg.predict(x_test)\n",
        "from sklearn.metrics import confusion_matrix\n",
        "c = confusion_matrix(y_test, y_pred)\n",
        "import seaborn as sn\n",
        "df_cm = pd.DataFrame(c, range(2), range(2))\n",
        "plt.figure(figsize = (2, 2))\n",
        "sn.heatmap(df_cm, annot=True)"
      ],
      "execution_count": null,
      "outputs": [
        {
          "output_type": "execute_result",
          "data": {
            "text/plain": [
              "<matplotlib.axes._subplots.AxesSubplot at 0x7f2be4b3bf90>"
            ]
          },
          "metadata": {},
          "execution_count": 70
        },
        {
          "output_type": "display_data",
          "data": {
            "image/png": "[encoded data removed]",
            "text/plain": [
              "<Figure size 144x144 with 2 Axes>"
            ]
          },
          "metadata": {
            "needs_background": "light"
          }
        }
      ]
    },
    {
      "cell_type": "markdown",
      "metadata": {
        "id": "MqJZHynBq2xq"
      },
      "source": [
        "## Naive-Bayes\n"
      ]
    },
    {
      "cell_type": "code",
      "metadata": {
        "id": "-hXIddq7Quk8",
        "colab": {
          "base_uri": "https://localhost:8080/"
        },
        "outputId": "fcfb0f01-4c0a-47b2-e5cd-771ef7ca128c"
      },
      "source": [
        "\n",
        "x_train, x_test, y_train, y_test = train_test_split(tf_idf_matrix,f_df, test_size=0.213, random_state=0)\n",
        "from sklearn.naive_bayes import MultinomialNB\n",
        "NB = MultinomialNB()\n",
        "NB.fit(x_train, y_train)\n",
        "Accuracy = NB.score(x_test, y_test)\n",
        "print(Accuracy*100)\n"
      ],
      "execution_count": null,
      "outputs": [
        {
          "output_type": "stream",
          "name": "stdout",
          "text": [
            "85.01228501228502\n"
          ]
        }
      ]
    },
    {
      "cell_type": "markdown",
      "metadata": {
        "id": "aPpk0Qq9rHp7"
      },
      "source": [
        "\n",
        "## Decision Tree\n"
      ]
    },
    {
      "cell_type": "code",
      "metadata": {
        "id": "YDTEtusNTaPx",
        "colab": {
          "base_uri": "https://localhost:8080/"
        },
        "outputId": "f4d29ae2-03d9-4d11-c18c-61cf84ca56b5"
      },
      "source": [
        "\n",
        "x_train, x_test, y_train, y_test = train_test_split(tf_idf_matrix,f_df, test_size=0.27, random_state=0)\n",
        "\n",
        "from sklearn.tree import DecisionTreeClassifier\n",
        "clf = DecisionTreeClassifier()\n",
        "clf.fit(x_train, y_train)\n",
        "Accuracy = clf.score(x_test, y_test)\n",
        "print(Accuracy*100)\n"
      ],
      "execution_count": null,
      "outputs": [
        {
          "output_type": "stream",
          "name": "stdout",
          "text": [
            "82.54686489980607\n"
          ]
        }
      ]
    },
    {
      "cell_type": "markdown",
      "metadata": {
        "id": "w7-D0hBJrQD6"
      },
      "source": [
        "\n",
        "## Passive-Aggressive Classifier\n"
      ]
    },
    {
      "cell_type": "code",
      "metadata": {
        "colab": {
          "base_uri": "https://localhost:8080/"
        },
        "id": "WfRMjXQ3rUaB",
        "outputId": "cbfd17ed-17ba-4e78-9b41-764a6ca46efe"
      },
      "source": [
        "\n",
        "x_train, x_test, y_train, y_test = train_test_split(tf_idf_matrix,f_df, test_size=0.31, random_state=0)\n",
        "\n",
        "from sklearn.metrics import accuracy_score\n",
        "from sklearn.linear_model import PassiveAggressiveClassifier\n",
        "pac=PassiveAggressiveClassifier(max_iter=50)\n",
        "pac.fit(x_train,y_train)\n",
        "PassiveAggressiveClassifier(C=1.0, average=False, class_weight=None,\n",
        "                            early_stopping=False, fit_intercept=True,\n",
        "                            loss='hinge', max_iter=50, n_iter_no_change=5,\n",
        "                            n_jobs=None, random_state=None, shuffle=True,\n",
        "                            tol=0.001, validation_fraction=0.1, verbose=0,\n",
        "                            warm_start=False)\n",
        "\n",
        "\n",
        "y_pred=pac.predict(x_test)\n",
        "score=accuracy_score(y_test,y_pred)\n",
        "print(f'Accuracy: {round(score*100,2)}%')"
      ],
      "execution_count": null,
      "outputs": [
        {
          "output_type": "stream",
          "name": "stdout",
          "text": [
            "Accuracy: 81.25%\n"
          ]
        },
        {
          "output_type": "stream",
          "name": "stderr",
          "text": [
            "/usr/local/lib/python3.7/dist-packages/sklearn/linear_model/_stochastic_gradient.py:557: ConvergenceWarning: Maximum number of iteration reached before convergence. Consider increasing max_iter to improve the fit.\n",
            "  ConvergenceWarning)\n"
          ]
        }
      ]
    }
  ]
}