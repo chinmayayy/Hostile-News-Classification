{
  "nbformat": 4,
  "nbformat_minor": 0,
  "metadata": {
    "colab": {
      "provenance": [],
      "collapsed_sections": [],
      "include_colab_link": true
    },
    "kernelspec": {
      "display_name": "Python 3",
      "name": "python3"
    },
    "language_info": {
      "name": "python"
    }
  },
  "cells": [
    {
      "cell_type": "markdown",
      "metadata": {
        "id": "view-in-github",
        "colab_type": "text"
      },
      "source": [
        "<a href=\"https://colab.research.google.com/github/chinmayayy/Hostile-News-Classification/blob/main/Preprocessing.ipynb\" target=\"_parent\"><img src=\"https://colab.research.google.com/assets/colab-badge.svg\" alt=\"Open In Colab\"/></a>"
      ]
    },
    {
      "cell_type": "markdown",
      "metadata": {
        "id": "SA8F_VThp594"
      },
      "source": [
        "#SETUP"
      ]
    },
    {
      "cell_type": "code",
      "metadata": {
        "colab": {
          "base_uri": "https://localhost:8080/"
        },
        "id": "KZ2GtKt_pn-0",
        "outputId": "7c5cb49b-f88c-45d7-8fbf-7e59793b2caf"
      },
      "source": [
        "from google.colab import drive\n",
        "drive.mount('/content/drive')"
      ],
      "execution_count": null,
      "outputs": [
        {
          "output_type": "stream",
          "name": "stdout",
          "text": [
            "Mounted at /content/drive\n"
          ]
        }
      ]
    },
    {
      "cell_type": "code",
      "metadata": {
        "colab": {
          "base_uri": "https://localhost:8080/"
        },
        "id": "mBjQG68gqEyD",
        "outputId": "e1f63274-8b9f-4522-8318-c791e99b7439"
      },
      "source": [
        "cd '/content/drive/MyDrive/Colab Notebooks/Project/Dataset'"
      ],
      "execution_count": null,
      "outputs": [
        {
          "output_type": "stream",
          "name": "stdout",
          "text": [
            "/content/drive/MyDrive/Colab Notebooks/Project/Dataset\n"
          ]
        }
      ]
    },
    {
      "cell_type": "code",
      "metadata": {
        "colab": {
          "base_uri": "https://localhost:8080/"
        },
        "id": "JTJYgXyyrcrR",
        "outputId": "ab3710be-fff7-460a-beb9-94f3296dbc85"
      },
      "source": [
        "ls"
      ],
      "execution_count": null,
      "outputs": [
        {
          "output_type": "stream",
          "name": "stdout",
          "text": [
            "'constraint_Hindi_Train - Sheet1.csv'  'Test Set Complete - test.csv'\n",
            "'Constraint_Hindi_Valid - Sheet1.csv'   Train_Data_01.csv\n",
            " dataset.csv\n"
          ]
        }
      ]
    },
    {
      "cell_type": "code",
      "metadata": {
        "id": "PVYUXgTmrd9S"
      },
      "source": [
        "#importing libraries\n",
        "import pandas as pd\n",
        "import numpy as np"
      ],
      "execution_count": null,
      "outputs": []
    },
    {
      "cell_type": "markdown",
      "metadata": {
        "id": "Q-pNVQirr2Be"
      },
      "source": [
        "#Data Processing"
      ]
    },
    {
      "cell_type": "code",
      "metadata": {
        "id": "ChZ-ho7L_mEI"
      },
      "source": [
        "a = pd.read_csv(\"constraint_Hindi_Train - Sheet1.csv\")\n",
        "b = pd.read_csv('Test Set Complete - test.csv')\n",
        "c = pd.read_csv('Constraint_Hindi_Valid - Sheet1.csv')\n",
        "merged = pd.merge(a,b, on='Post',how='left')\n",
        "merged.to_csv(\"file1.csv\", index=False)"
      ],
      "execution_count": null,
      "outputs": []
    },
    {
      "cell_type": "code",
      "metadata": {
        "id": "7gJVCE91HMA_"
      },
      "source": [
        "d = pd.read_csv(\"file1.csv\")"
      ],
      "execution_count": null,
      "outputs": []
    },
    {
      "cell_type": "code",
      "metadata": {
        "id": "4ZnLXzQSG0xZ"
      },
      "source": [
        "merged_final = pd.merge(d,c, on='Post',how='left')\n",
        "merged_final.to_csv(\"dataset.csv\")"
      ],
      "execution_count": null,
      "outputs": []
    },
    {
      "cell_type": "code",
      "metadata": {
        "colab": {
          "base_uri": "https://localhost:8080/",
          "height": 824
        },
        "id": "tqbLKXu3HYky",
        "outputId": "11a40580-03cb-4550-8776-9dc8b3854a06"
      },
      "source": [
        "data = pd.read_csv(\"dataset.csv\")\n",
        "data.head(25)"
      ],
      "execution_count": null,
      "outputs": [
        {
          "output_type": "execute_result",
          "data": {
            "text/html": [
              "<div>\n",
              "<style scoped>\n",
              "    .dataframe tbody tr th:only-of-type {\n",
              "        vertical-align: middle;\n",
              "    }\n",
              "\n",
              "    .dataframe tbody tr th {\n",
              "        vertical-align: top;\n",
              "    }\n",
              "\n",
              "    .dataframe thead th {\n",
              "        text-align: right;\n",
              "    }\n",
              "</style>\n",
              "<table border=\"1\" class=\"dataframe\">\n",
              "  <thead>\n",
              "    <tr style=\"text-align: right;\">\n",
              "      <th></th>\n",
              "      <th>Unnamed: 0</th>\n",
              "      <th>Unique ID_x</th>\n",
              "      <th>Post</th>\n",
              "      <th>Labels Set_x</th>\n",
              "      <th>Unique ID_y</th>\n",
              "      <th>Labels Set_y</th>\n",
              "      <th>Unique ID</th>\n",
              "      <th>Labels Set</th>\n",
              "    </tr>\n",
              "  </thead>\n",
              "  <tbody>\n",
              "    <tr>\n",
              "      <th>0</th>\n",
              "      <td>0</td>\n",
              "      <td>1</td>\n",
              "      <td>मेरे देश के हिन्दु बहुत निराले है। कुछ तो पक्क...</td>\n",
              "      <td>hate,offensive</td>\n",
              "      <td>NaN</td>\n",
              "      <td>NaN</td>\n",
              "      <td>NaN</td>\n",
              "      <td>NaN</td>\n",
              "    </tr>\n",
              "    <tr>\n",
              "      <th>1</th>\n",
              "      <td>1</td>\n",
              "      <td>2</td>\n",
              "      <td>सरकार हमेशा से किसानों की कमाई को बढ़ाने के लि...</td>\n",
              "      <td>non-hostile</td>\n",
              "      <td>NaN</td>\n",
              "      <td>NaN</td>\n",
              "      <td>NaN</td>\n",
              "      <td>NaN</td>\n",
              "    </tr>\n",
              "    <tr>\n",
              "      <th>2</th>\n",
              "      <td>2</td>\n",
              "      <td>3</td>\n",
              "      <td>सुशांत ने जो बिजनेस डील 9 जून को की थी, वो डील...</td>\n",
              "      <td>non-hostile</td>\n",
              "      <td>NaN</td>\n",
              "      <td>NaN</td>\n",
              "      <td>NaN</td>\n",
              "      <td>NaN</td>\n",
              "    </tr>\n",
              "    <tr>\n",
              "      <th>3</th>\n",
              "      <td>3</td>\n",
              "      <td>4</td>\n",
              "      <td>@prabhav218 साले जेएनयू छाप कमिने लोग हिन्दुओं...</td>\n",
              "      <td>defamation,offensive</td>\n",
              "      <td>NaN</td>\n",
              "      <td>NaN</td>\n",
              "      <td>NaN</td>\n",
              "      <td>NaN</td>\n",
              "    </tr>\n",
              "    <tr>\n",
              "      <th>4</th>\n",
              "      <td>4</td>\n",
              "      <td>5</td>\n",
              "      <td>#unlock4guidelines - अनलॉक-4 के लिए गाइडलाइन्स...</td>\n",
              "      <td>non-hostile</td>\n",
              "      <td>NaN</td>\n",
              "      <td>NaN</td>\n",
              "      <td>NaN</td>\n",
              "      <td>NaN</td>\n",
              "    </tr>\n",
              "    <tr>\n",
              "      <th>5</th>\n",
              "      <td>5</td>\n",
              "      <td>6</td>\n",
              "      <td>चीन ने UN में तर्क दिया की भारत का विपक्ष ही अ...</td>\n",
              "      <td>fake</td>\n",
              "      <td>NaN</td>\n",
              "      <td>NaN</td>\n",
              "      <td>NaN</td>\n",
              "      <td>NaN</td>\n",
              "    </tr>\n",
              "    <tr>\n",
              "      <th>6</th>\n",
              "      <td>6</td>\n",
              "      <td>7</td>\n",
              "      <td>देश में #Corona के रिकॉर्ड मामले  \\n#ZeeJankar...</td>\n",
              "      <td>non-hostile</td>\n",
              "      <td>NaN</td>\n",
              "      <td>NaN</td>\n",
              "      <td>NaN</td>\n",
              "      <td>NaN</td>\n",
              "    </tr>\n",
              "    <tr>\n",
              "      <th>7</th>\n",
              "      <td>7</td>\n",
              "      <td>8</td>\n",
              "      <td>#JEE Exam center से निकले #Students को सुन बाक...</td>\n",
              "      <td>non-hostile</td>\n",
              "      <td>NaN</td>\n",
              "      <td>NaN</td>\n",
              "      <td>NaN</td>\n",
              "      <td>NaN</td>\n",
              "    </tr>\n",
              "    <tr>\n",
              "      <th>8</th>\n",
              "      <td>8</td>\n",
              "      <td>9</td>\n",
              "      <td>#AkshayKumar जल्द ही बेयर ग्रिल्स के शो 'इंटू ...</td>\n",
              "      <td>non-hostile</td>\n",
              "      <td>NaN</td>\n",
              "      <td>NaN</td>\n",
              "      <td>NaN</td>\n",
              "      <td>NaN</td>\n",
              "    </tr>\n",
              "    <tr>\n",
              "      <th>9</th>\n",
              "      <td>9</td>\n",
              "      <td>10</td>\n",
              "      <td>#जीवनसंवाद: हम संघर्ष करना चाहते हैं, क्योंकि ...</td>\n",
              "      <td>non-hostile</td>\n",
              "      <td>NaN</td>\n",
              "      <td>NaN</td>\n",
              "      <td>NaN</td>\n",
              "      <td>NaN</td>\n",
              "    </tr>\n",
              "    <tr>\n",
              "      <th>10</th>\n",
              "      <td>10</td>\n",
              "      <td>11</td>\n",
              "      <td>RT @_Pb_swain_: मोदीजी और जब सारा देश सेना के ...</td>\n",
              "      <td>hate</td>\n",
              "      <td>NaN</td>\n",
              "      <td>NaN</td>\n",
              "      <td>NaN</td>\n",
              "      <td>NaN</td>\n",
              "    </tr>\n",
              "    <tr>\n",
              "      <th>11</th>\n",
              "      <td>11</td>\n",
              "      <td>12</td>\n",
              "      <td>RT @ShilpiSinghINC: 48000 घरों को तोड़ने का आद...</td>\n",
              "      <td>offensive</td>\n",
              "      <td>NaN</td>\n",
              "      <td>NaN</td>\n",
              "      <td>NaN</td>\n",
              "      <td>NaN</td>\n",
              "    </tr>\n",
              "    <tr>\n",
              "      <th>12</th>\n",
              "      <td>12</td>\n",
              "      <td>13</td>\n",
              "      <td>जब बीजेपी प्रवक्ता @sambitswaraj ने कांग्रेस प...</td>\n",
              "      <td>non-hostile</td>\n",
              "      <td>NaN</td>\n",
              "      <td>NaN</td>\n",
              "      <td>NaN</td>\n",
              "      <td>NaN</td>\n",
              "    </tr>\n",
              "    <tr>\n",
              "      <th>13</th>\n",
              "      <td>13</td>\n",
              "      <td>14</td>\n",
              "      <td>बियर ग्रिल्स के साथ खतरनाक जंगलों में दिखेंगे ...</td>\n",
              "      <td>non-hostile</td>\n",
              "      <td>NaN</td>\n",
              "      <td>NaN</td>\n",
              "      <td>NaN</td>\n",
              "      <td>NaN</td>\n",
              "    </tr>\n",
              "    <tr>\n",
              "      <th>14</th>\n",
              "      <td>14</td>\n",
              "      <td>15</td>\n",
              "      <td>आजम खान की बेटी पर ससूर ने किया रेप।\\nअब quata...</td>\n",
              "      <td>offensive</td>\n",
              "      <td>NaN</td>\n",
              "      <td>NaN</td>\n",
              "      <td>NaN</td>\n",
              "      <td>NaN</td>\n",
              "    </tr>\n",
              "    <tr>\n",
              "      <th>15</th>\n",
              "      <td>15</td>\n",
              "      <td>16</td>\n",
              "      <td>कांग्रेस मूल की कंगना रनौत बिहार चुनाव में भाज...</td>\n",
              "      <td>fake</td>\n",
              "      <td>NaN</td>\n",
              "      <td>NaN</td>\n",
              "      <td>NaN</td>\n",
              "      <td>NaN</td>\n",
              "    </tr>\n",
              "    <tr>\n",
              "      <th>16</th>\n",
              "      <td>16</td>\n",
              "      <td>17</td>\n",
              "      <td>होम आइसोलेशन में रहने वाले लोग थर्मामीटर तथा प...</td>\n",
              "      <td>non-hostile</td>\n",
              "      <td>NaN</td>\n",
              "      <td>NaN</td>\n",
              "      <td>NaN</td>\n",
              "      <td>NaN</td>\n",
              "    </tr>\n",
              "    <tr>\n",
              "      <th>17</th>\n",
              "      <td>17</td>\n",
              "      <td>18</td>\n",
              "      <td>पूर्व प्रधानमंत्री डॉ. मनमोहन सिंह ने 10 राजाज...</td>\n",
              "      <td>non-hostile</td>\n",
              "      <td>NaN</td>\n",
              "      <td>NaN</td>\n",
              "      <td>NaN</td>\n",
              "      <td>NaN</td>\n",
              "    </tr>\n",
              "    <tr>\n",
              "      <th>18</th>\n",
              "      <td>18</td>\n",
              "      <td>19</td>\n",
              "      <td>IPL छोड़ेंगे @harbhajan_singh ? @ChennaiIPL अध...</td>\n",
              "      <td>non-hostile</td>\n",
              "      <td>NaN</td>\n",
              "      <td>NaN</td>\n",
              "      <td>NaN</td>\n",
              "      <td>NaN</td>\n",
              "    </tr>\n",
              "    <tr>\n",
              "      <th>19</th>\n",
              "      <td>19</td>\n",
              "      <td>20</td>\n",
              "      <td>#Saharanpur चेकिंग के बहाने उगाही करने वाले गि...</td>\n",
              "      <td>non-hostile</td>\n",
              "      <td>NaN</td>\n",
              "      <td>NaN</td>\n",
              "      <td>NaN</td>\n",
              "      <td>NaN</td>\n",
              "    </tr>\n",
              "    <tr>\n",
              "      <th>20</th>\n",
              "      <td>20</td>\n",
              "      <td>21</td>\n",
              "      <td>जापान के नोबल पुरस्कार जीतने वाले ओर 4 साल तक ...</td>\n",
              "      <td>fake</td>\n",
              "      <td>NaN</td>\n",
              "      <td>NaN</td>\n",
              "      <td>NaN</td>\n",
              "      <td>NaN</td>\n",
              "    </tr>\n",
              "    <tr>\n",
              "      <th>21</th>\n",
              "      <td>21</td>\n",
              "      <td>22</td>\n",
              "      <td>दिल्ली में हिंदुओं और सिक्खों की सामूहिक हत्या...</td>\n",
              "      <td>fake,hate</td>\n",
              "      <td>NaN</td>\n",
              "      <td>NaN</td>\n",
              "      <td>NaN</td>\n",
              "      <td>NaN</td>\n",
              "    </tr>\n",
              "    <tr>\n",
              "      <th>22</th>\n",
              "      <td>22</td>\n",
              "      <td>23</td>\n",
              "      <td>कुत्ते में भी एकता होती है विचारों में विरोध ह...</td>\n",
              "      <td>offensive</td>\n",
              "      <td>NaN</td>\n",
              "      <td>NaN</td>\n",
              "      <td>NaN</td>\n",
              "      <td>NaN</td>\n",
              "    </tr>\n",
              "    <tr>\n",
              "      <th>23</th>\n",
              "      <td>23</td>\n",
              "      <td>24</td>\n",
              "      <td>प्रणब मुखर्जी ने 37 प्रार्थियों से जुड़ी 28 दय...</td>\n",
              "      <td>non-hostile</td>\n",
              "      <td>NaN</td>\n",
              "      <td>NaN</td>\n",
              "      <td>NaN</td>\n",
              "      <td>NaN</td>\n",
              "    </tr>\n",
              "    <tr>\n",
              "      <th>24</th>\n",
              "      <td>24</td>\n",
              "      <td>25</td>\n",
              "      <td>लद्दाख के करीब चीन ने फिर से तैनात किए अपने J-...</td>\n",
              "      <td>non-hostile</td>\n",
              "      <td>NaN</td>\n",
              "      <td>NaN</td>\n",
              "      <td>NaN</td>\n",
              "      <td>NaN</td>\n",
              "    </tr>\n",
              "  </tbody>\n",
              "</table>\n",
              "</div>"
            ],
            "text/plain": [
              "    Unnamed: 0  Unique ID_x  ... Unique ID Labels Set\n",
              "0            0            1  ...       NaN        NaN\n",
              "1            1            2  ...       NaN        NaN\n",
              "2            2            3  ...       NaN        NaN\n",
              "3            3            4  ...       NaN        NaN\n",
              "4            4            5  ...       NaN        NaN\n",
              "5            5            6  ...       NaN        NaN\n",
              "6            6            7  ...       NaN        NaN\n",
              "7            7            8  ...       NaN        NaN\n",
              "8            8            9  ...       NaN        NaN\n",
              "9            9           10  ...       NaN        NaN\n",
              "10          10           11  ...       NaN        NaN\n",
              "11          11           12  ...       NaN        NaN\n",
              "12          12           13  ...       NaN        NaN\n",
              "13          13           14  ...       NaN        NaN\n",
              "14          14           15  ...       NaN        NaN\n",
              "15          15           16  ...       NaN        NaN\n",
              "16          16           17  ...       NaN        NaN\n",
              "17          17           18  ...       NaN        NaN\n",
              "18          18           19  ...       NaN        NaN\n",
              "19          19           20  ...       NaN        NaN\n",
              "20          20           21  ...       NaN        NaN\n",
              "21          21           22  ...       NaN        NaN\n",
              "22          22           23  ...       NaN        NaN\n",
              "23          23           24  ...       NaN        NaN\n",
              "24          24           25  ...       NaN        NaN\n",
              "\n",
              "[25 rows x 8 columns]"
            ]
          },
          "metadata": {},
          "execution_count": 22
        }
      ]
    },
    {
      "cell_type": "code",
      "metadata": {
        "id": "VQiTetpBryQ7"
      },
      "source": [
        "fake = pd.read_csv('Train_Data_01.csv')"
      ],
      "execution_count": null,
      "outputs": []
    },
    {
      "cell_type": "code",
      "metadata": {
        "colab": {
          "base_uri": "https://localhost:8080/",
          "height": 204
        },
        "id": "KLsGDrO3sIKy",
        "outputId": "0931673f-c5ff-4cab-c416-62bdf394624f"
      },
      "source": [
        "fake.head()"
      ],
      "execution_count": null,
      "outputs": [
        {
          "output_type": "execute_result",
          "data": {
            "text/html": [
              "<div>\n",
              "<style scoped>\n",
              "    .dataframe tbody tr th:only-of-type {\n",
              "        vertical-align: middle;\n",
              "    }\n",
              "\n",
              "    .dataframe tbody tr th {\n",
              "        vertical-align: top;\n",
              "    }\n",
              "\n",
              "    .dataframe thead th {\n",
              "        text-align: right;\n",
              "    }\n",
              "</style>\n",
              "<table border=\"1\" class=\"dataframe\">\n",
              "  <thead>\n",
              "    <tr style=\"text-align: right;\">\n",
              "      <th></th>\n",
              "      <th>id</th>\n",
              "      <th>post</th>\n",
              "      <th>labels</th>\n",
              "    </tr>\n",
              "  </thead>\n",
              "  <tbody>\n",
              "    <tr>\n",
              "      <th>0</th>\n",
              "      <td>1</td>\n",
              "      <td>मेरे देश के हिन्दु बहुत निराले है। कुछ तो पक्क...</td>\n",
              "      <td>hate,offensive</td>\n",
              "    </tr>\n",
              "    <tr>\n",
              "      <th>1</th>\n",
              "      <td>2</td>\n",
              "      <td>सरकार हमेशा से किसानों की कमाई को बढ़ाने के लि...</td>\n",
              "      <td>non-hostile</td>\n",
              "    </tr>\n",
              "    <tr>\n",
              "      <th>2</th>\n",
              "      <td>3</td>\n",
              "      <td>सुशांत ने जो बिजनेस डील 9 जून को की थी, वो डील...</td>\n",
              "      <td>non-hostile</td>\n",
              "    </tr>\n",
              "    <tr>\n",
              "      <th>3</th>\n",
              "      <td>4</td>\n",
              "      <td>@prabhav218 साले जेएनयू छाप कमिने लोग हिन्दुओं...</td>\n",
              "      <td>defamation,offensive</td>\n",
              "    </tr>\n",
              "    <tr>\n",
              "      <th>4</th>\n",
              "      <td>5</td>\n",
              "      <td>#unlock4guidelines - अनलॉक-4 के लिए गाइडलाइन्स...</td>\n",
              "      <td>non-hostile</td>\n",
              "    </tr>\n",
              "  </tbody>\n",
              "</table>\n",
              "</div>"
            ],
            "text/plain": [
              "   id                                               post                labels\n",
              "0   1  मेरे देश के हिन्दु बहुत निराले है। कुछ तो पक्क...        hate,offensive\n",
              "1   2  सरकार हमेशा से किसानों की कमाई को बढ़ाने के लि...           non-hostile\n",
              "2   3  सुशांत ने जो बिजनेस डील 9 जून को की थी, वो डील...           non-hostile\n",
              "3   4  @prabhav218 साले जेएनयू छाप कमिने लोग हिन्दुओं...  defamation,offensive\n",
              "4   5  #unlock4guidelines - अनलॉक-4 के लिए गाइडलाइन्स...           non-hostile"
            ]
          },
          "metadata": {
            "tags": []
          },
          "execution_count": 22
        }
      ]
    },
    {
      "cell_type": "code",
      "metadata": {
        "colab": {
          "base_uri": "https://localhost:8080/"
        },
        "id": "MCQZ6T8_sRQD",
        "outputId": "0420b863-785e-4cc1-82df-43836d34c984"
      },
      "source": [
        "print(f'labels: {fake.labels.unique()}')"
      ],
      "execution_count": null,
      "outputs": [
        {
          "output_type": "stream",
          "text": [
            "labels: ['hate,offensive' 'non-hostile' 'defamation,offensive' 'fake' 'hate'\n",
            " 'offensive' 'fake,hate' 'defamation' 'defamation,hate'\n",
            " 'defamation,hate,offensive' 'defamation,fake,offensive' 'fake,offensive'\n",
            " 'defamation,fake' 'defamation,fake,hate' 'fake,hate,offensive'\n",
            " 'defamation,fake,hate,offensive']\n"
          ],
          "name": "stdout"
        }
      ]
    },
    {
      "cell_type": "code",
      "metadata": {
        "id": "Rxw1qAUZszA1"
      },
      "source": [
        "fake[\"labels\"].replace({\"hate,offensive\": \"hostile\", \"real\" : \"non-hostile\", \"fake\" : \"hostile\" , \"defamation,offensive\": \"hostile\", \"hate\": \"hostile\", \"offensive\": \"hostile\", \"fake,hate\": \"hostile\", \"defamation\": \"hostile\", \"defamation,hate\": \"hostile\", \"defamation,hate,offensive\": \"hostile\", \"defamation,fake,offensive\": \"hostile\", \"fake,offensive\": \"hostile\", \"defamation,fake\": \"hostile\", \"defamation,fake,hate\" : \"hostile\", \"fake,hate,offensive\": \"hostile\", \"defamation,fake,hate,offensive\" : \"hostile\"}, inplace=True)"
      ],
      "execution_count": null,
      "outputs": []
    },
    {
      "cell_type": "code",
      "metadata": {
        "colab": {
          "base_uri": "https://localhost:8080/",
          "height": 204
        },
        "id": "WsNi-qYsCClc",
        "outputId": "6e324063-2d96-4c9f-c641-7619c3bd9d36"
      },
      "source": [
        "fake.head()"
      ],
      "execution_count": null,
      "outputs": [
        {
          "output_type": "execute_result",
          "data": {
            "text/html": [
              "<div>\n",
              "<style scoped>\n",
              "    .dataframe tbody tr th:only-of-type {\n",
              "        vertical-align: middle;\n",
              "    }\n",
              "\n",
              "    .dataframe tbody tr th {\n",
              "        vertical-align: top;\n",
              "    }\n",
              "\n",
              "    .dataframe thead th {\n",
              "        text-align: right;\n",
              "    }\n",
              "</style>\n",
              "<table border=\"1\" class=\"dataframe\">\n",
              "  <thead>\n",
              "    <tr style=\"text-align: right;\">\n",
              "      <th></th>\n",
              "      <th>id</th>\n",
              "      <th>post</th>\n",
              "      <th>labels</th>\n",
              "    </tr>\n",
              "  </thead>\n",
              "  <tbody>\n",
              "    <tr>\n",
              "      <th>0</th>\n",
              "      <td>1</td>\n",
              "      <td>मेरे देश के हिन्दु बहुत निराले है। कुछ तो पक्क...</td>\n",
              "      <td>hostile</td>\n",
              "    </tr>\n",
              "    <tr>\n",
              "      <th>1</th>\n",
              "      <td>2</td>\n",
              "      <td>सरकार हमेशा से किसानों की कमाई को बढ़ाने के लि...</td>\n",
              "      <td>non-hostile</td>\n",
              "    </tr>\n",
              "    <tr>\n",
              "      <th>2</th>\n",
              "      <td>3</td>\n",
              "      <td>सुशांत ने जो बिजनेस डील 9 जून को की थी, वो डील...</td>\n",
              "      <td>non-hostile</td>\n",
              "    </tr>\n",
              "    <tr>\n",
              "      <th>3</th>\n",
              "      <td>4</td>\n",
              "      <td>@prabhav218 साले जेएनयू छाप कमिने लोग हिन्दुओं...</td>\n",
              "      <td>hostile</td>\n",
              "    </tr>\n",
              "    <tr>\n",
              "      <th>4</th>\n",
              "      <td>5</td>\n",
              "      <td>#unlock4guidelines - अनलॉक-4 के लिए गाइडलाइन्स...</td>\n",
              "      <td>non-hostile</td>\n",
              "    </tr>\n",
              "  </tbody>\n",
              "</table>\n",
              "</div>"
            ],
            "text/plain": [
              "   id                                               post       labels\n",
              "0   1  मेरे देश के हिन्दु बहुत निराले है। कुछ तो पक्क...      hostile\n",
              "1   2  सरकार हमेशा से किसानों की कमाई को बढ़ाने के लि...  non-hostile\n",
              "2   3  सुशांत ने जो बिजनेस डील 9 जून को की थी, वो डील...  non-hostile\n",
              "3   4  @prabhav218 साले जेएनयू छाप कमिने लोग हिन्दुओं...      hostile\n",
              "4   5  #unlock4guidelines - अनलॉक-4 के लिए गाइडलाइन्स...  non-hostile"
            ]
          },
          "metadata": {
            "tags": []
          },
          "execution_count": 25
        }
      ]
    },
    {
      "cell_type": "markdown",
      "metadata": {
        "id": "Dn6tBpRNETt7"
      },
      "source": [
        "Hostile : 0\n",
        "Non-Hostile : 1"
      ]
    },
    {
      "cell_type": "code",
      "metadata": {
        "id": "O9pIK2Q4Dzfd"
      },
      "source": [
        "fake['labels'] = fake['labels'].apply({'hostile':0, 'non-hostile':1}.get)"
      ],
      "execution_count": null,
      "outputs": []
    },
    {
      "cell_type": "code",
      "metadata": {
        "colab": {
          "base_uri": "https://localhost:8080/",
          "height": 514
        },
        "id": "0r4Lj7XMFNQ5",
        "outputId": "e0f0193c-46f1-4dc7-84d1-28c776cd2d73"
      },
      "source": [
        "fake.head(15)"
      ],
      "execution_count": null,
      "outputs": [
        {
          "output_type": "execute_result",
          "data": {
            "text/html": [
              "<div>\n",
              "<style scoped>\n",
              "    .dataframe tbody tr th:only-of-type {\n",
              "        vertical-align: middle;\n",
              "    }\n",
              "\n",
              "    .dataframe tbody tr th {\n",
              "        vertical-align: top;\n",
              "    }\n",
              "\n",
              "    .dataframe thead th {\n",
              "        text-align: right;\n",
              "    }\n",
              "</style>\n",
              "<table border=\"1\" class=\"dataframe\">\n",
              "  <thead>\n",
              "    <tr style=\"text-align: right;\">\n",
              "      <th></th>\n",
              "      <th>id</th>\n",
              "      <th>post</th>\n",
              "      <th>labels</th>\n",
              "    </tr>\n",
              "  </thead>\n",
              "  <tbody>\n",
              "    <tr>\n",
              "      <th>0</th>\n",
              "      <td>1</td>\n",
              "      <td>मेरे देश के हिन्दु बहुत निराले है। कुछ तो पक्क...</td>\n",
              "      <td>0</td>\n",
              "    </tr>\n",
              "    <tr>\n",
              "      <th>1</th>\n",
              "      <td>2</td>\n",
              "      <td>सरकार हमेशा से किसानों की कमाई को बढ़ाने के लि...</td>\n",
              "      <td>1</td>\n",
              "    </tr>\n",
              "    <tr>\n",
              "      <th>2</th>\n",
              "      <td>3</td>\n",
              "      <td>सुशांत ने जो बिजनेस डील 9 जून को की थी, वो डील...</td>\n",
              "      <td>1</td>\n",
              "    </tr>\n",
              "    <tr>\n",
              "      <th>3</th>\n",
              "      <td>4</td>\n",
              "      <td>@prabhav218 साले जेएनयू छाप कमिने लोग हिन्दुओं...</td>\n",
              "      <td>0</td>\n",
              "    </tr>\n",
              "    <tr>\n",
              "      <th>4</th>\n",
              "      <td>5</td>\n",
              "      <td>#unlock4guidelines - अनलॉक-4 के लिए गाइडलाइन्स...</td>\n",
              "      <td>1</td>\n",
              "    </tr>\n",
              "    <tr>\n",
              "      <th>5</th>\n",
              "      <td>6</td>\n",
              "      <td>चीन ने UN में तर्क दिया की भारत का विपक्ष ही अ...</td>\n",
              "      <td>0</td>\n",
              "    </tr>\n",
              "    <tr>\n",
              "      <th>6</th>\n",
              "      <td>7</td>\n",
              "      <td>देश में #Corona के रिकॉर्ड मामले  \\n#ZeeJankar...</td>\n",
              "      <td>1</td>\n",
              "    </tr>\n",
              "    <tr>\n",
              "      <th>7</th>\n",
              "      <td>8</td>\n",
              "      <td>#JEE Exam center से निकले #Students को सुन बाक...</td>\n",
              "      <td>1</td>\n",
              "    </tr>\n",
              "    <tr>\n",
              "      <th>8</th>\n",
              "      <td>9</td>\n",
              "      <td>#AkshayKumar जल्द ही बेयर ग्रिल्स के शो 'इंटू ...</td>\n",
              "      <td>1</td>\n",
              "    </tr>\n",
              "    <tr>\n",
              "      <th>9</th>\n",
              "      <td>10</td>\n",
              "      <td>#जीवनसंवाद: हम संघर्ष करना चाहते हैं, क्योंकि ...</td>\n",
              "      <td>1</td>\n",
              "    </tr>\n",
              "    <tr>\n",
              "      <th>10</th>\n",
              "      <td>11</td>\n",
              "      <td>RT @_Pb_swain_: मोदीजी और जब सारा देश सेना के ...</td>\n",
              "      <td>0</td>\n",
              "    </tr>\n",
              "    <tr>\n",
              "      <th>11</th>\n",
              "      <td>12</td>\n",
              "      <td>RT @ShilpiSinghINC: 48000 घरों को तोड़ने का आद...</td>\n",
              "      <td>0</td>\n",
              "    </tr>\n",
              "    <tr>\n",
              "      <th>12</th>\n",
              "      <td>13</td>\n",
              "      <td>जब बीजेपी प्रवक्ता @sambitswaraj ने कांग्रेस प...</td>\n",
              "      <td>1</td>\n",
              "    </tr>\n",
              "    <tr>\n",
              "      <th>13</th>\n",
              "      <td>14</td>\n",
              "      <td>बियर ग्रिल्स के साथ खतरनाक जंगलों में दिखेंगे ...</td>\n",
              "      <td>1</td>\n",
              "    </tr>\n",
              "    <tr>\n",
              "      <th>14</th>\n",
              "      <td>15</td>\n",
              "      <td>आजम खान की बेटी पर ससूर ने किया रेप।\\nअब quata...</td>\n",
              "      <td>0</td>\n",
              "    </tr>\n",
              "  </tbody>\n",
              "</table>\n",
              "</div>"
            ],
            "text/plain": [
              "    id                                               post  labels\n",
              "0    1  मेरे देश के हिन्दु बहुत निराले है। कुछ तो पक्क...       0\n",
              "1    2  सरकार हमेशा से किसानों की कमाई को बढ़ाने के लि...       1\n",
              "2    3  सुशांत ने जो बिजनेस डील 9 जून को की थी, वो डील...       1\n",
              "3    4  @prabhav218 साले जेएनयू छाप कमिने लोग हिन्दुओं...       0\n",
              "4    5  #unlock4guidelines - अनलॉक-4 के लिए गाइडलाइन्स...       1\n",
              "5    6  चीन ने UN में तर्क दिया की भारत का विपक्ष ही अ...       0\n",
              "6    7  देश में #Corona के रिकॉर्ड मामले  \\n#ZeeJankar...       1\n",
              "7    8  #JEE Exam center से निकले #Students को सुन बाक...       1\n",
              "8    9  #AkshayKumar जल्द ही बेयर ग्रिल्स के शो 'इंटू ...       1\n",
              "9   10  #जीवनसंवाद: हम संघर्ष करना चाहते हैं, क्योंकि ...       1\n",
              "10  11  RT @_Pb_swain_: मोदीजी और जब सारा देश सेना के ...       0\n",
              "11  12  RT @ShilpiSinghINC: 48000 घरों को तोड़ने का आद...       0\n",
              "12  13  जब बीजेपी प्रवक्ता @sambitswaraj ने कांग्रेस प...       1\n",
              "13  14  बियर ग्रिल्स के साथ खतरनाक जंगलों में दिखेंगे ...       1\n",
              "14  15  आजम खान की बेटी पर ससूर ने किया रेप।\\nअब quata...       0"
            ]
          },
          "metadata": {
            "tags": []
          },
          "execution_count": 27
        }
      ]
    },
    {
      "cell_type": "code",
      "metadata": {
        "id": "2dMNUABJFS7g"
      },
      "source": [
        "fake = fake.drop(['id'], axis = 1)"
      ],
      "execution_count": null,
      "outputs": []
    },
    {
      "cell_type": "code",
      "metadata": {
        "id": "gh8M6wcGSSYd"
      },
      "source": [
        "fake = fake.dropna()"
      ],
      "execution_count": null,
      "outputs": []
    },
    {
      "cell_type": "code",
      "metadata": {
        "colab": {
          "base_uri": "https://localhost:8080/",
          "height": 204
        },
        "id": "9J0TJ78QTOsG",
        "outputId": "cfcff00c-3a08-441b-a96e-5d532d1e21d3"
      },
      "source": [
        "fake.head()"
      ],
      "execution_count": null,
      "outputs": [
        {
          "output_type": "execute_result",
          "data": {
            "text/html": [
              "<div>\n",
              "<style scoped>\n",
              "    .dataframe tbody tr th:only-of-type {\n",
              "        vertical-align: middle;\n",
              "    }\n",
              "\n",
              "    .dataframe tbody tr th {\n",
              "        vertical-align: top;\n",
              "    }\n",
              "\n",
              "    .dataframe thead th {\n",
              "        text-align: right;\n",
              "    }\n",
              "</style>\n",
              "<table border=\"1\" class=\"dataframe\">\n",
              "  <thead>\n",
              "    <tr style=\"text-align: right;\">\n",
              "      <th></th>\n",
              "      <th>post</th>\n",
              "      <th>labels</th>\n",
              "    </tr>\n",
              "  </thead>\n",
              "  <tbody>\n",
              "    <tr>\n",
              "      <th>0</th>\n",
              "      <td>मेरे देश के हिन्दु बहुत निराले है। कुछ तो पक्क...</td>\n",
              "      <td>0</td>\n",
              "    </tr>\n",
              "    <tr>\n",
              "      <th>1</th>\n",
              "      <td>सरकार हमेशा से किसानों की कमाई को बढ़ाने के लि...</td>\n",
              "      <td>1</td>\n",
              "    </tr>\n",
              "    <tr>\n",
              "      <th>2</th>\n",
              "      <td>सुशांत ने जो बिजनेस डील 9 जून को की थी, वो डील...</td>\n",
              "      <td>1</td>\n",
              "    </tr>\n",
              "    <tr>\n",
              "      <th>3</th>\n",
              "      <td>@prabhav218 साले जेएनयू छाप कमिने लोग हिन्दुओं...</td>\n",
              "      <td>0</td>\n",
              "    </tr>\n",
              "    <tr>\n",
              "      <th>4</th>\n",
              "      <td>#unlock4guidelines - अनलॉक-4 के लिए गाइडलाइन्स...</td>\n",
              "      <td>1</td>\n",
              "    </tr>\n",
              "  </tbody>\n",
              "</table>\n",
              "</div>"
            ],
            "text/plain": [
              "                                                post  labels\n",
              "0  मेरे देश के हिन्दु बहुत निराले है। कुछ तो पक्क...       0\n",
              "1  सरकार हमेशा से किसानों की कमाई को बढ़ाने के लि...       1\n",
              "2  सुशांत ने जो बिजनेस डील 9 जून को की थी, वो डील...       1\n",
              "3  @prabhav218 साले जेएनयू छाप कमिने लोग हिन्दुओं...       0\n",
              "4  #unlock4guidelines - अनलॉक-4 के लिए गाइडलाइन्स...       1"
            ]
          },
          "metadata": {
            "tags": []
          },
          "execution_count": 30
        }
      ]
    },
    {
      "cell_type": "markdown",
      "metadata": {
        "id": "-fYjqi9_UnHt"
      },
      "source": [
        "finding no of rows in the dataframe"
      ]
    },
    {
      "cell_type": "code",
      "metadata": {
        "id": "jcIJa9OwTwYP"
      },
      "source": [
        "index = fake.index\n",
        "rows = len(index)"
      ],
      "execution_count": null,
      "outputs": []
    },
    {
      "cell_type": "code",
      "metadata": {
        "colab": {
          "base_uri": "https://localhost:8080/"
        },
        "id": "KKGZlJ9IUiRu",
        "outputId": "c5d839e4-cdce-4bce-b244-94cf2c178592"
      },
      "source": [
        "print(rows)"
      ],
      "execution_count": null,
      "outputs": [
        {
          "output_type": "stream",
          "text": [
            "5728\n"
          ],
          "name": "stdout"
        }
      ]
    },
    {
      "cell_type": "code",
      "metadata": {
        "id": "JX5xJyYLUkVZ"
      },
      "source": [
        "x = fake.iloc[:,:-1].values\n",
        "y = fake.iloc[:,-1].values"
      ],
      "execution_count": null,
      "outputs": []
    },
    {
      "cell_type": "code",
      "metadata": {
        "id": "GI317w7zV4Pt"
      },
      "source": [
        "from sklearn.feature_extraction.text import CountVectorizer\n",
        "cv = CountVectorizer(max_features=6000)\n",
        "mat_body = cv.fit_transform(x[:,0]).todense()"
      ],
      "execution_count": null,
      "outputs": []
    },
    {
      "cell_type": "code",
      "metadata": {
        "colab": {
          "base_uri": "https://localhost:8080/"
        },
        "id": "o-hZq7_LY-NS",
        "outputId": "3773dc5e-d3f1-4168-adea-80eb2b47d4ac"
      },
      "source": [
        "mat_body"
      ],
      "execution_count": null,
      "outputs": [
        {
          "output_type": "execute_result",
          "data": {
            "text/plain": [
              "matrix([[0, 0, 0, ..., 0, 0, 0],\n",
              "        [0, 0, 0, ..., 0, 0, 0],\n",
              "        [0, 0, 0, ..., 0, 0, 0],\n",
              "        ...,\n",
              "        [0, 0, 0, ..., 0, 0, 0],\n",
              "        [0, 0, 0, ..., 0, 0, 0],\n",
              "        [0, 0, 0, ..., 0, 0, 0]])"
            ]
          },
          "metadata": {
            "tags": []
          },
          "execution_count": 56
        }
      ]
    },
    {
      "cell_type": "code",
      "metadata": {
        "id": "pmv0PKKlZ90c"
      },
      "source": [
        "from sklearn.model_selection import train_test_split\n",
        "X_train, X_test, Y_train, Y_test = train_test_split(mat_body, y, test_size=0.2, random_state=0)"
      ],
      "execution_count": null,
      "outputs": []
    },
    {
      "cell_type": "markdown",
      "metadata": {
        "id": "pEjNZhcfeFQe"
      },
      "source": [
        "Using DecisionTree to train and test the model"
      ]
    },
    {
      "cell_type": "code",
      "metadata": {
        "id": "NJAwu1IocWyK"
      },
      "source": [
        "from sklearn.tree import DecisionTreeClassifier\n",
        "dtc = DecisionTreeClassifier(criterion='entropy')\n",
        "dtc.fit(X_train, Y_train)\n",
        "y_pred = dtc.predict(X_test)"
      ],
      "execution_count": null,
      "outputs": []
    },
    {
      "cell_type": "markdown",
      "metadata": {
        "id": "UjUyhV7BeAuq"
      },
      "source": [
        "Creating a confusion matrix to determine the accuracy\n",
        "\n"
      ]
    },
    {
      "cell_type": "code",
      "metadata": {
        "colab": {
          "base_uri": "https://localhost:8080/"
        },
        "id": "ZNB89LMUc7TG",
        "outputId": "1d70a4a0-8df6-42c0-a22a-9f781b39bcea"
      },
      "source": [
        "from sklearn.metrics import confusion_matrix\n",
        "confusion_matrix(Y_test, y_pred)"
      ],
      "execution_count": null,
      "outputs": [
        {
          "output_type": "execute_result",
          "data": {
            "text/plain": [
              "array([[484,  57],\n",
              "       [ 69, 536]])"
            ]
          },
          "metadata": {
            "tags": []
          },
          "execution_count": 61
        }
      ]
    },
    {
      "cell_type": "markdown",
      "metadata": {
        "id": "tdVbJhqLd5ox"
      },
      "source": [
        "Final accuracy score"
      ]
    },
    {
      "cell_type": "code",
      "metadata": {
        "colab": {
          "base_uri": "https://localhost:8080/"
        },
        "id": "Wc5_MztcdicN",
        "outputId": "06378d9d-d143-4cea-f084-b66e31e2ef9b"
      },
      "source": [
        "(484+536)/(484+57+69+536)"
      ],
      "execution_count": null,
      "outputs": [
        {
          "output_type": "execute_result",
          "data": {
            "text/plain": [
              "0.8900523560209425"
            ]
          },
          "metadata": {
            "tags": []
          },
          "execution_count": 62
        }
      ]
    }
  ]
}